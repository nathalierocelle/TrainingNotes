{
 "cells": [
  {
   "cell_type": "markdown",
   "metadata": {
    "id": "RanTnCW3Ilz7"
   },
   "source": [
    "# Python for Data Science: Transforming Data with Intelligence \n",
    "## A. Welcome to Jupyter (a.k.a. Ipython Notebooks)\n",
    "Take a while to adjust your bearings. Study the icons above.\n",
    "\n",
    "There are two major types of cells:\n",
    "\n",
    "1) Markdown cells - simple text. One can do html tags like <b>BOLD</b> or latex like $\\beta$.\n",
    "\n",
    "2) Code cells - cells where we can run code.\n",
    "\n",
    "<b>Shortcuts</b>\n",
    "\n",
    "1) <b>CTRL-M</b> then <b>H</b> to see help\n",
    "\n",
    "2) <b>CTRL-M</b> then <b>S</b> to save notebook\n",
    "\n",
    "3) <b>CTRL-ENTER</b> to Run Code but stay in the same cell\n",
    "\n",
    "4) <b>SHIFT-ENTER</b> to Run Code and advance to the next cell\n",
    "\n",
    "5) You can use <b>TAB</b> to see available functions. You can use <b>SHIFT-TAB</b> repeatedly for the documentation."
   ]
  },
  {
   "cell_type": "code",
   "execution_count": null,
   "metadata": {},
   "outputs": [],
   "source": [
    "# This is our first python code\n",
    "print(\"Hello World!\")"
   ]
  },
  {
   "cell_type": "markdown",
   "metadata": {
    "id": "RZ-G28tgIl0A"
   },
   "source": [
    "## B. Variables and Data Types\n",
    "\n",
    "Python uses five standard data types:\n",
    "\n",
    "### Numbers"
   ]
  },
  {
   "cell_type": "code",
   "execution_count": null,
   "metadata": {
    "id": "pDPeeZPkIl0B"
   },
   "outputs": [],
   "source": [
    "varNum = 123\n",
    "pi = 3.14159"
   ]
  },
  {
   "cell_type": "markdown",
   "metadata": {
    "id": "ZYCUkP60Il0E"
   },
   "source": [
    "varNum is an Integer, thus it does not handle numbers with decimal places while pi is a Float where values in the decimal place are handled."
   ]
  },
  {
   "cell_type": "markdown",
   "metadata": {},
   "source": [
    "* *Mutable* - The value assigned to a variable can be changed.\n",
    "* *Immutable* - The value assigned to a variable cannot be changed."
   ]
  },
  {
   "cell_type": "markdown",
   "metadata": {
    "id": "dCHyrCU5Il0F"
   },
   "source": [
    "### Strings"
   ]
  },
  {
   "cell_type": "code",
   "execution_count": null,
   "metadata": {
    "id": "r5OPivdeIl0F",
    "outputId": "79a08582-48c0-4d06-8199-b20ceed96ced"
   },
   "outputs": [],
   "source": [
    "varString = \"Hello World!\"\n",
    "varText = 'This is a String'\n",
    "varTxt = \"\"\"This is a String\"\"\"\n",
    "#print(varString)\n",
    "print(\"The length of varString is\",len(varString))"
   ]
  },
  {
   "cell_type": "markdown",
   "metadata": {
    "id": "JfONvi9mIl0J"
   },
   "source": [
    "Strings may be declared with a single quote (') or double quote (\"), some even use triple double quotes(\"\"\"). One may use them interchangeable but some prefer to follow a specific format."
   ]
  },
  {
   "cell_type": "code",
   "execution_count": null,
   "metadata": {},
   "outputs": [],
   "source": [
    "varTxt[-2]"
   ]
  },
  {
   "cell_type": "code",
   "execution_count": null,
   "metadata": {},
   "outputs": [],
   "source": [
    "message = \"Technological Institute of the Philippines\""
   ]
  },
  {
   "cell_type": "code",
   "execution_count": null,
   "metadata": {},
   "outputs": [],
   "source": [
    "# indexing variableName[start:end:step]; end - exclusive\n",
    "message[0:13]"
   ]
  },
  {
   "cell_type": "code",
   "execution_count": null,
   "metadata": {},
   "outputs": [],
   "source": [
    "# get the Tcnl from Technological\n",
    "message[0:7:2]"
   ]
  },
  {
   "cell_type": "markdown",
   "metadata": {
    "id": "TdcZbFfxIl0J"
   },
   "source": [
    "### Lists"
   ]
  },
  {
   "cell_type": "code",
   "execution_count": null,
   "metadata": {
    "id": "wQk_VtsEIl0K",
    "outputId": "e085b74a-b0fd-4189-db2e-315f7ace50d1"
   },
   "outputs": [],
   "source": [
    "varList = [\"abc\", 123]\n",
    "print(varList)\n",
    "print(len(varList))"
   ]
  },
  {
   "cell_type": "code",
   "execution_count": null,
   "metadata": {
    "id": "pQe1vwedIl0O",
    "outputId": "591391be-2a4a-401c-e6a1-3a0d39d58c05"
   },
   "outputs": [],
   "source": [
    "print(varList[0])\n",
    "print(len(varList[0]))"
   ]
  },
  {
   "cell_type": "markdown",
   "metadata": {
    "id": "mwugmVRdIl0S"
   },
   "source": [
    "You can think of Lists as similar to ArrayLists where the index starts at 0 and you can obtain the contents of a list by using brackets that contain the index of the element. You may also append items in the list and remove them as well."
   ]
  },
  {
   "cell_type": "code",
   "execution_count": null,
   "metadata": {
    "id": "bGmnTUNqIl0S",
    "outputId": "27d890fa-78a2-49f1-b39c-f6e7e3cf28ec"
   },
   "outputs": [],
   "source": [
    "pi = 3.14159\n",
    "varList = [1, 2, 'A', 'B', 'Hello!', pi]\n",
    "print(varList[0])"
   ]
  },
  {
   "cell_type": "markdown",
   "metadata": {
    "id": "gli-6xoZIl0W"
   },
   "source": [
    "For more information regarding lists, this has been discussed on section B. Data Types and Variables.\n",
    "You can chose to insert different datatypes in a single list."
   ]
  },
  {
   "cell_type": "code",
   "execution_count": null,
   "metadata": {
    "id": "olgU52HnIl0X",
    "outputId": "1e02b1c5-c68b-4dbc-e784-58e61e05fa23"
   },
   "outputs": [],
   "source": [
    "print(varList[4])"
   ]
  },
  {
   "cell_type": "markdown",
   "metadata": {
    "id": "Q2pwaMn9Il0a"
   },
   "source": [
    "You may call the content of the list through indexing"
   ]
  },
  {
   "cell_type": "code",
   "execution_count": null,
   "metadata": {
    "id": "sV6W0-tRIl0a",
    "outputId": "2cb9303c-efbf-4b7a-c7dc-e4d8996d7a51"
   },
   "outputs": [],
   "source": [
    "varList.append('World!')\n",
    "print(varList)"
   ]
  },
  {
   "cell_type": "markdown",
   "metadata": {
    "id": "7Dnpzav_Il0c"
   },
   "source": [
    "You may also append items in the list. The example above shows you that when you added a new list item, it would be added towards the end of list"
   ]
  },
  {
   "cell_type": "code",
   "execution_count": null,
   "metadata": {
    "id": "hXB6gRiuIl0d",
    "outputId": "1462be12-3869-4d45-99f6-ddca3793a9dd"
   },
   "outputs": [],
   "source": [
    "len(varList)"
   ]
  },
  {
   "cell_type": "code",
   "execution_count": null,
   "metadata": {
    "id": "jeLXFtpeIl0i",
    "outputId": "cbaa28cc-91e9-41c0-8219-b0dea3553a82"
   },
   "outputs": [],
   "source": [
    "varList.remove(pi)\n",
    "print(varList)"
   ]
  },
  {
   "cell_type": "markdown",
   "metadata": {
    "id": "PvdECKVzIl0k"
   },
   "source": [
    "Initially <b>varList[5]</b> was called and the result was 3.14159, however when the <b>remove()</b> function was called, it iterates though the list looking for the first match then erases that value."
   ]
  },
  {
   "cell_type": "code",
   "execution_count": null,
   "metadata": {
    "id": "NPpWtRB2Il0n",
    "outputId": "912124cd-8712-4e11-8034-6a3f7e627126"
   },
   "outputs": [],
   "source": [
    "varList = [1, 2, 3, 4, 5, 6, 7, 8, 9, 10]\n",
    "varList[:5]"
   ]
  },
  {
   "cell_type": "code",
   "execution_count": null,
   "metadata": {
    "id": "2q_8SR_vIl0q",
    "outputId": "e314db25-3283-4407-b734-db8e1127535f"
   },
   "outputs": [],
   "source": [
    "varList[5:]"
   ]
  },
  {
   "cell_type": "code",
   "execution_count": null,
   "metadata": {
    "id": "eDYNjcLlIl0s",
    "outputId": "cb0ddcab-f145-4661-8aee-bba0e42b6dee"
   },
   "outputs": [],
   "source": [
    "varList[:-2]"
   ]
  },
  {
   "cell_type": "code",
   "execution_count": null,
   "metadata": {
    "id": "1MjF3UbnIl0u",
    "outputId": "e3ccfa9b-d0ad-414b-acd1-ca2b259f5ad2"
   },
   "outputs": [],
   "source": [
    "varList[-2:]"
   ]
  },
  {
   "cell_type": "code",
   "execution_count": null,
   "metadata": {
    "id": "eLVUkEgwIl0y",
    "outputId": "660435ad-da5e-4020-b9af-05feac966bab"
   },
   "outputs": [],
   "source": [
    "print(varList[2:-2])"
   ]
  },
  {
   "cell_type": "code",
   "execution_count": null,
   "metadata": {
    "id": "wrA4i5TrIl00",
    "outputId": "49cb977b-9ef3-405f-e9e7-43c20a0515e0"
   },
   "outputs": [],
   "source": [
    "#select 3,6\n",
    "varList[2:6:2]"
   ]
  },
  {
   "cell_type": "markdown",
   "metadata": {
    "id": "Mr4hwccvIl02"
   },
   "source": [
    "<b>NOTE</b> <i>list([start]: end : [\n",
    "step])"
   ]
  },
  {
   "cell_type": "markdown",
   "metadata": {
    "id": "GowPzutLIl03"
   },
   "source": [
    "### Tuples"
   ]
  },
  {
   "cell_type": "code",
   "execution_count": null,
   "metadata": {
    "colab": {
     "base_uri": "https://localhost:8080/",
     "height": 69
    },
    "id": "B0rUluETIl03",
    "outputId": "5e71efab-c250-4a74-da5e-7922e16f0234"
   },
   "outputs": [],
   "source": [
    "varTuple = ('abc', 123, \"HELLO\")\n",
    "print(varTuple)\n",
    "print(len(varTuple))\n",
    "print(varTuple[0])"
   ]
  },
  {
   "cell_type": "markdown",
   "metadata": {
    "id": "G3l-3VfFIl05"
   },
   "source": [
    "It may seem like there are no differences between Tuples and Lists other than Tuples use parenthesis while lists use brackets, but actually there are minor differences. For one thing, Tuples are fixed structures thus do not have the luxury of Lists to append or remove elements. Generally Lists have a lot of other functions readily available as opposed to using Tuples.\n",
    "\n",
    "<b>HINT:</b> You can try to type <b><i>varList.</i></b> in one line as well as <b><i>varTuple.</i></b> and press <b>TAB</b> after the period (.) in order to view possible functions you can call from that variable. You may also try to press <b>CTRL + TAB</b> when the text cursor."
   ]
  },
  {
   "cell_type": "code",
   "execution_count": null,
   "metadata": {
    "colab": {
     "base_uri": "https://localhost:8080/",
     "height": 52
    },
    "id": "cRgFnXCiIl05",
    "outputId": "07f9a71d-79ad-4aff-adb5-dc7df96d1bba"
   },
   "outputs": [],
   "source": [
    "varTuple.append(\"HELLO\")\n",
    "print(varTuple)\n",
    "print(len(varTuple))"
   ]
  },
  {
   "cell_type": "markdown",
   "metadata": {
    "id": "4bwzCpcLIl07"
   },
   "source": [
    "However Tuples actually use less space in the memory as opposed to Lists, resulting in faster processing. One thing to take note of is that one would usually use Tuples when the size of the contents are static as opposed to Lists where one can use it to continuously modify the size and elements."
   ]
  },
  {
   "cell_type": "code",
   "execution_count": null,
   "metadata": {
    "colab": {
     "base_uri": "https://localhost:8080/",
     "height": 87
    },
    "id": "-FNakk8OIl08",
    "outputId": "580e3162-e7b8-4bdf-94f0-6670c4b7b656"
   },
   "outputs": [],
   "source": [
    "print(varList)\n",
    "print(varList.__sizeof__())\n",
    "print(varTuple)\n",
    "print(varTuple.__sizeof__())"
   ]
  },
  {
   "cell_type": "markdown",
   "metadata": {
    "collapsed": true,
    "id": "g7OsUht1Il0-"
   },
   "source": [
    "### Dictionaries"
   ]
  },
  {
   "cell_type": "code",
   "execution_count": null,
   "metadata": {
    "id": "zsovYAZAIl0-",
    "outputId": "bbf6c74f-2557-4807-b5ee-7ed59be1b158"
   },
   "outputs": [],
   "source": [
    "var = 3\n",
    "varDict = {'first':1, '2':'2nd', 3:var}\n",
    "varDict"
   ]
  },
  {
   "cell_type": "markdown",
   "metadata": {
    "id": "W8600GKBIl1A"
   },
   "source": [
    "You may also declare contents of dictionaries individually"
   ]
  },
  {
   "cell_type": "code",
   "execution_count": null,
   "metadata": {
    "id": "HQsTjgSEIl1A",
    "outputId": "2159c892-e407-4a5b-90b3-cd0b15023903"
   },
   "outputs": [],
   "source": [
    "varDict = {}\n",
    "varDict['first'] = 15\n",
    "varDict['2'] = '2nd'\n",
    "varDict[3] = var\n",
    "#print(varDict[3])\n",
    "print(varDict[3])"
   ]
  },
  {
   "cell_type": "markdown",
   "metadata": {
    "id": "0uaq5UxXIl1D"
   },
   "source": [
    "If you have experience in using JavaScript Object Notation or JSON, Python's implementation of Dictionaries are quite similar to that. You may reference an element by inserting the label of the keypair."
   ]
  },
  {
   "cell_type": "code",
   "execution_count": null,
   "metadata": {
    "id": "1PB_YOwfIl1D",
    "outputId": "4be53500-b954-4fce-9b31-d794fb8fe8cc"
   },
   "outputs": [],
   "source": [
    "var = \"Hello World!\"\n",
    "varDict = {'first' : 123, 2 : 'abc', '3' : var, 4:['lista', 'listb']}\n",
    "print(varDict['first'])"
   ]
  },
  {
   "cell_type": "code",
   "execution_count": null,
   "metadata": {
    "id": "S0YCiqJlIl1G",
    "outputId": "8493ae3f-485a-4f41-a5ee-822afdc6b267"
   },
   "outputs": [],
   "source": [
    "print(varDict[2])"
   ]
  },
  {
   "cell_type": "code",
   "execution_count": null,
   "metadata": {
    "id": "z2FlXSWTIl1J",
    "outputId": "80c0b17e-e2fd-4e53-a2a4-d9f6301596c1"
   },
   "outputs": [],
   "source": [
    "print(varDict['3'])"
   ]
  },
  {
   "cell_type": "code",
   "execution_count": null,
   "metadata": {
    "id": "pV8tI0SxIl1L",
    "outputId": "1ec71a9e-c4c8-4c0f-8011-7a4ceab2c347"
   },
   "outputs": [],
   "source": [
    "print(varDict[4])"
   ]
  },
  {
   "cell_type": "code",
   "execution_count": null,
   "metadata": {
    "id": "U62QWolPIl1N",
    "outputId": "27c78fe4-6653-4c39-e6ce-d22239d248c3"
   },
   "outputs": [],
   "source": [
    "print(varDict[4][0])"
   ]
  },
  {
   "cell_type": "code",
   "execution_count": null,
   "metadata": {
    "id": "h2txspbMIl1P",
    "outputId": "f3b3449a-7793-4779-dd7d-53beff3a8622"
   },
   "outputs": [],
   "source": [
    "len(varDict)"
   ]
  },
  {
   "cell_type": "markdown",
   "metadata": {
    "id": "0hLpAvyaIl1R"
   },
   "source": [
    "## Arithmetic\n",
    "\n",
    "Python uses basic arithmetic functions which are normally present on most if not all programming languages.\n",
    "\n",
    "### Addition"
   ]
  },
  {
   "cell_type": "code",
   "execution_count": null,
   "metadata": {
    "id": "lxUS0ydCIl1R",
    "outputId": "d8395863-888c-4248-c382-200142e05750"
   },
   "outputs": [],
   "source": [
    "a = 5 + 3\n",
    "a"
   ]
  },
  {
   "cell_type": "markdown",
   "metadata": {
    "id": "Rzb0PeWgIl1T"
   },
   "source": [
    "### Subtraction"
   ]
  },
  {
   "cell_type": "code",
   "execution_count": null,
   "metadata": {
    "id": "t41FAf7hIl1U",
    "outputId": "3c5f9120-95c6-4b3d-c9ad-a762bbc5bacb"
   },
   "outputs": [],
   "source": [
    "a = 5 - 3\n",
    "a"
   ]
  },
  {
   "cell_type": "markdown",
   "metadata": {
    "id": "eHBdSfmzIl1V"
   },
   "source": [
    "### Multiplication"
   ]
  },
  {
   "cell_type": "code",
   "execution_count": null,
   "metadata": {
    "id": "XBCxXfrfIl1W",
    "outputId": "0221ab92-8b1b-4444-9f45-cfce5408feff"
   },
   "outputs": [],
   "source": [
    "a = 5 * 3\n",
    "a"
   ]
  },
  {
   "cell_type": "markdown",
   "metadata": {
    "id": "s0CBBUzrIl1Z"
   },
   "source": [
    "### Exponent"
   ]
  },
  {
   "cell_type": "code",
   "execution_count": null,
   "metadata": {
    "id": "uM2DH_vTIl1Z",
    "outputId": "c16edd6e-77c5-4d82-9bf7-0ffe4a5d06b6"
   },
   "outputs": [],
   "source": [
    "a = 5 ** 3\n",
    "a"
   ]
  },
  {
   "cell_type": "markdown",
   "metadata": {
    "id": "ssoSJfXrIl1b"
   },
   "source": [
    "### Division"
   ]
  },
  {
   "cell_type": "code",
   "execution_count": null,
   "metadata": {
    "id": "EAsc4gPOIl1b",
    "outputId": "1131ce77-db9d-4e41-cc8a-81e2cbfc29a1"
   },
   "outputs": [],
   "source": [
    "a = 5 / 3\n",
    "a"
   ]
  },
  {
   "cell_type": "markdown",
   "metadata": {
    "id": "uv4Gl5HiIl1d"
   },
   "source": [
    "### Modulus Division"
   ]
  },
  {
   "cell_type": "code",
   "execution_count": null,
   "metadata": {
    "id": "0tqhsM9TIl1f",
    "outputId": "c335e8e4-0bdd-4806-80b0-8ed9abe29617"
   },
   "outputs": [],
   "source": [
    "a = 5 % 3\n",
    "a"
   ]
  },
  {
   "cell_type": "markdown",
   "metadata": {
    "id": "cEeU4i9rIl1h"
   },
   "source": [
    "### Integer Division"
   ]
  },
  {
   "cell_type": "code",
   "execution_count": null,
   "metadata": {
    "id": "WmaVFf9vIl1h",
    "outputId": "3a1faaed-02b5-4dc4-821d-7d381176e123"
   },
   "outputs": [],
   "source": [
    "a = 5 // 3\n",
    "a"
   ]
  },
  {
   "cell_type": "markdown",
   "metadata": {
    "id": "Ro6KwOZ1Il1j"
   },
   "source": [
    "### Increment"
   ]
  },
  {
   "cell_type": "code",
   "execution_count": null,
   "metadata": {
    "id": "ayfZwSNoIl1j",
    "outputId": "5a7ed0db-c6c6-4ad1-dc63-6c8fa2bea394"
   },
   "outputs": [],
   "source": [
    "a = 5\n",
    "a += 1\n",
    "a"
   ]
  },
  {
   "cell_type": "markdown",
   "metadata": {
    "id": "YwtRiXnjIl1m"
   },
   "source": [
    "### Decrement"
   ]
  },
  {
   "cell_type": "code",
   "execution_count": null,
   "metadata": {
    "id": "ymuJzM_3Il1n",
    "outputId": "efd16df4-a021-42a6-e0d3-a1f538780026"
   },
   "outputs": [],
   "source": [
    "a = 5\n",
    "a -= 1\n",
    "a"
   ]
  },
  {
   "cell_type": "markdown",
   "metadata": {
    "id": "n5XpeMpYIl1q"
   },
   "source": [
    "<b>NOTE:</b> Python does not support the increment/decrement syntax of <b>x++/x--</b> instead you may use the syntax of <b>x+=1/x-=1</b> which is similar to <b>x=x+1/x=x-1</b>"
   ]
  },
  {
   "cell_type": "markdown",
   "metadata": {
    "id": "b33jaWxJIl1q"
   },
   "source": [
    "### String Concatenation"
   ]
  },
  {
   "cell_type": "code",
   "execution_count": null,
   "metadata": {
    "id": "YWbv456uIl1r",
    "outputId": "da2f8c72-e368-46c0-c816-843e9b3bd002"
   },
   "outputs": [],
   "source": [
    "a = 'Hello ' + 'World!'\n",
    "a"
   ]
  },
  {
   "cell_type": "markdown",
   "metadata": {
    "id": "-j0GVExdIl1t"
   },
   "source": [
    "Strings may also be appended with the use of the plus <b>(+)</b> symbol"
   ]
  },
  {
   "cell_type": "markdown",
   "metadata": {
    "id": "ILUgjSzMIl1t"
   },
   "source": [
    "### Complex Expressions"
   ]
  },
  {
   "cell_type": "code",
   "execution_count": null,
   "metadata": {
    "id": "imkmfribIl1t",
    "outputId": "d2ed93cc-f801-4eaf-8491-6329ac705bd6"
   },
   "outputs": [],
   "source": [
    "a = 3 + 5 - 6 * 2 / 4\n",
    "a"
   ]
  },
  {
   "cell_type": "markdown",
   "metadata": {
    "id": "qPu6JysHIl1w"
   },
   "source": [
    "## Challenge 1! Write the following to code\n",
    "\n",
    "$$ g(z) = \\frac{1}{1+e^{-z}}  $$\n",
    "\n",
    "1) z = 8, and e = 2.718 should be equal to 0.9996643716832646\n",
    "\n",
    "2) z = 2, and e = 2.718 should be equal to 0.8807753038918279"
   ]
  },
  {
   "cell_type": "code",
   "execution_count": null,
   "metadata": {
    "colab": {
     "base_uri": "https://localhost:8080/",
     "height": 173
    },
    "id": "kjqujQ_-Il1w",
    "outputId": "1200e19e-49a7-4701-b1b2-4196af2bcbb7"
   },
   "outputs": [],
   "source": []
  },
  {
   "cell_type": "markdown",
   "metadata": {
    "id": "yU1VOtFhIl1y"
   },
   "source": [
    "<b><i>TRIVIA</i></b>: The value <b>e</b>, also called <b>Euler's number</b>, is a mathematical constant representing an irrational number that is approximately <b>2.71828</b>. Irrational, meaning the constant <b>e</b> is a real number that is unending and is unable to accurately be represented as a fraction, similar to that of <b>pi</b>."
   ]
  },
  {
   "cell_type": "markdown",
   "metadata": {
    "id": "HhR72b_4Il1z"
   },
   "source": [
    "## C. Control Statements and Data Structures\n",
    "## Conditional Statements\n",
    "In Python, curly brackets are not used to designate that multiple commands are inside a conditional statement, instead uniform spacing is used. Please take note however that the composition of the uniform spacing must be the same, such that if 4 spaces are being used, even though 4 spaces may have a visually similar result as a tab, interchanging them would produce an error statement\n",
    "### Boolean Condition"
   ]
  },
  {
   "cell_type": "code",
   "execution_count": null,
   "metadata": {
    "id": "JsReO5k9Il1z",
    "outputId": "52fbb6dc-e2ff-4b75-835a-6d533870592c"
   },
   "outputs": [],
   "source": [
    "x = True\n",
    "if x:\n",
    "    print(\"var x is True\")\n",
    "else:\n",
    "    print(\"var x is False\")"
   ]
  },
  {
   "cell_type": "markdown",
   "metadata": {
    "id": "zojTdC05Il12"
   },
   "source": [
    "### String Condition"
   ]
  },
  {
   "cell_type": "code",
   "execution_count": null,
   "metadata": {
    "id": "jnGZSFyGIl12",
    "outputId": "4decbc5e-9639-4fff-9ab0-eb8466f005fb"
   },
   "outputs": [],
   "source": [
    "x = \"Hello World!\"\n",
    "\n",
    "if x == 'Hello World!':\n",
    "    print(\"var x is Hello World!\")\n",
    "else:\n",
    "    print(\"var x is not Hello World!\")"
   ]
  },
  {
   "cell_type": "markdown",
   "metadata": {
    "id": "DI7xh1CoIl15"
   },
   "source": [
    "### Numerical Condition"
   ]
  },
  {
   "cell_type": "code",
   "execution_count": null,
   "metadata": {
    "id": "Rrj6raQFIl15",
    "outputId": "a869ee11-5a9b-411a-c4ba-9d18122f6c40"
   },
   "outputs": [],
   "source": [
    "x = 10\n",
    "\n",
    "if x == '10':\n",
    "    print(\"var x is a String\")\n",
    "elif x == 10:\n",
    "    print(\"var x in an Integer\")\n",
    "else:\n",
    "    print(\"var x is none of the above\")"
   ]
  },
  {
   "cell_type": "markdown",
   "metadata": {
    "id": "kUQmePYxIl17"
   },
   "source": [
    "### Multiple Conditions"
   ]
  },
  {
   "cell_type": "code",
   "execution_count": null,
   "metadata": {
    "colab": {
     "base_uri": "https://localhost:8080/",
     "height": 35
    },
    "id": "S_yY99FdIl17",
    "outputId": "a03a8e3d-755c-43ed-f058-6cb39ae6269b"
   },
   "outputs": [],
   "source": [
    "x = 10\n",
    "\n",
    "if ((x > 5) and (x < 15) and (x == 10)):\n",
    "    print(\"var x is really 10!\")\n",
    "else:\n",
    "    print(\"var x is not really 10\")"
   ]
  },
  {
   "cell_type": "code",
   "execution_count": null,
   "metadata": {
    "colab": {
     "base_uri": "https://localhost:8080/",
     "height": 35
    },
    "id": "tkmAxs2kIl19",
    "outputId": "1c2a1150-0183-49b4-a66c-97de864b3486"
   },
   "outputs": [],
   "source": [
    "x = 10\n",
    "\n",
    "if x == 10 or  x == 20:\n",
    "    print(\"var x can be 10 or 20\")\n",
    "else:\n",
    "    print(\"var x is not 10 nor 20\")"
   ]
  },
  {
   "cell_type": "markdown",
   "metadata": {
    "id": "91Ow6XTuIl1_"
   },
   "source": [
    "## Loops\n",
    "Similar with that of Conditional Statements, commands within a loop are designated by having a uniform spacing.\n",
    "### For Loops"
   ]
  },
  {
   "cell_type": "code",
   "execution_count": null,
   "metadata": {
    "colab": {
     "base_uri": "https://localhost:8080/",
     "height": 104
    },
    "id": "C4NXF6HGIl2A",
    "outputId": "f26516e1-5bf9-4b2f-ca8a-e2480464237f",
    "scrolled": true
   },
   "outputs": [],
   "source": [
    "for var in range(0,5,1):\n",
    "    print(var)"
   ]
  },
  {
   "cell_type": "markdown",
   "metadata": {
    "id": "pgvjmF14Il2F"
   },
   "source": [
    "<b>NOTE:</b> The command <b>range(0,5,2)</b> is equivalent to all numbers from 0 incremented by 2 until it reaches the number less than 5"
   ]
  },
  {
   "cell_type": "code",
   "execution_count": null,
   "metadata": {
    "id": "xTSobAyCIl2F",
    "outputId": "4d51eb6b-892c-4dae-f57b-983a1b2cf40e",
    "scrolled": true
   },
   "outputs": [],
   "source": [
    "[var for var in range(1, 100, 5)]"
   ]
  },
  {
   "cell_type": "code",
   "execution_count": null,
   "metadata": {
    "colab": {
     "base_uri": "https://localhost:8080/",
     "height": 121
    },
    "id": "77Jk2DmGIl2H",
    "outputId": "e2bfc322-8d7f-4075-db2b-c838ee41f390"
   },
   "outputs": [],
   "source": [
    "x = [1, 2, 3]\n",
    "y = [3, 4, 5]\n",
    "\n",
    "for var1, var2 in zip (x, y):\n",
    "    print(var1)\n",
    "    print(var2)"
   ]
  },
  {
   "cell_type": "markdown",
   "metadata": {
    "id": "3kYlWekfIl2I"
   },
   "source": [
    "<b>NOTE:</b> range([start], stop, [step])"
   ]
  },
  {
   "cell_type": "markdown",
   "metadata": {
    "id": "La38SJoxIl2J"
   },
   "source": [
    "### While Loops"
   ]
  },
  {
   "cell_type": "code",
   "execution_count": null,
   "metadata": {
    "colab": {
     "base_uri": "https://localhost:8080/",
     "height": 69
    },
    "id": "FrD2YjT8Il2J",
    "outputId": "bcc0e498-4614-49b5-cd51-871a997f5f8b"
   },
   "outputs": [],
   "source": [
    "var = 0 #needs to declare\n",
    "while var < 5:\n",
    "    print(var)\n",
    "    var += 2"
   ]
  },
  {
   "cell_type": "markdown",
   "metadata": {
    "id": "EuUJxcI7Il2L"
   },
   "source": [
    "### Nested Loops"
   ]
  },
  {
   "cell_type": "code",
   "execution_count": null,
   "metadata": {
    "colab": {
     "base_uri": "https://localhost:8080/",
     "height": 104
    },
    "id": "SyLNw36DIl2M",
    "outputId": "6b1d76fa-6223-44ae-faae-3502a09e2077"
   },
   "outputs": [],
   "source": [
    "x = 0\n",
    "while x < 5:\n",
    "    for y in range(0, x):\n",
    "        print(y, end='')\n",
    "    x+=1\n",
    "    print()"
   ]
  },
  {
   "cell_type": "markdown",
   "metadata": {
    "id": "z56K5A7dIl2N"
   },
   "source": [
    "Always take note that there should be a colon <b>(:)</b> on the line where one delcares the loop or condition"
   ]
  },
  {
   "cell_type": "markdown",
   "metadata": {
    "id": "ICRoTQvtIl2O"
   },
   "source": [
    "## Challenge 2! Convert the following formula into a Looping Code\n",
    "\n",
    "$$ g(z) = \\frac{1}{1+e^{-z}}  $$\n",
    "\n",
    "When \n",
    "\n",
    "z = [2, 4, 6, 8, 10, 12, 14, 16, 18, 20]  and  \n",
    "e = [1.718, 2.718, 3.718, 4.718, 5.718, 6.718, 7.718, 8.718, 9.718, 10.718];   \n",
    "g(z) should be in a LIST form."
   ]
  },
  {
   "cell_type": "code",
   "execution_count": null,
   "metadata": {
    "colab": {
     "base_uri": "https://localhost:8080/",
     "height": 71
    },
    "id": "u_lvT2tQIl2O",
    "outputId": "a0121b35-374f-453c-fd13-79f609f01489"
   },
   "outputs": [],
   "source": []
  },
  {
   "cell_type": "markdown",
   "metadata": {
    "id": "m8w2U17tIl2Q"
   },
   "source": [
    "## D. Functions\n",
    "\n",
    "Functions use the following notation:\n",
    "\n",
    "def <i>function_name</i>:<br>\n",
    "<pre><i> input commands here </i></pre>\n",
    "\n",
    "Here is a sample function. np.random.randint(a, [b]) outputs uniformly random values from $[a,b) $"
   ]
  },
  {
   "cell_type": "code",
   "execution_count": null,
   "metadata": {
    "id": "fdSjW2bJIl2Q"
   },
   "outputs": [],
   "source": [
    "def remainder(n, m):\n",
    "    while True:\n",
    "        if n - m < 0:\n",
    "            return n\n",
    "        else:\n",
    "            n = n - m"
   ]
  },
  {
   "cell_type": "code",
   "execution_count": null,
   "metadata": {
    "id": "LI-mDJlQIl2R",
    "outputId": "ca2f44e6-207f-4df1-be9a-35a495f0e5db"
   },
   "outputs": [],
   "source": [
    "remainder(10, 4)"
   ]
  },
  {
   "cell_type": "markdown",
   "metadata": {
    "id": "ZkFq0KNPIl2T"
   },
   "source": [
    "## List Generators and Comprehension"
   ]
  },
  {
   "cell_type": "code",
   "execution_count": null,
   "metadata": {
    "id": "filFHtUsIl2T"
   },
   "outputs": [],
   "source": [
    "def gen_num_up_to(n):\n",
    "    num = 0\n",
    "    while num < n:\n",
    "        yield num\n",
    "        num += 1"
   ]
  },
  {
   "cell_type": "code",
   "execution_count": null,
   "metadata": {
    "colab": {
     "base_uri": "https://localhost:8080/",
     "height": 35
    },
    "id": "eWsnf290Il2V",
    "outputId": "4f86a2bb-b148-46dc-ce0f-0361c3000ff8"
   },
   "outputs": [],
   "source": [
    "gen_num_up_to(5)"
   ]
  },
  {
   "cell_type": "code",
   "execution_count": null,
   "metadata": {
    "colab": {
     "base_uri": "https://localhost:8080/",
     "height": 35
    },
    "id": "awiKxq2wIl2a",
    "outputId": "7de3532f-be1f-4c4b-95a4-a4a6ca29e415"
   },
   "outputs": [],
   "source": [
    "varList = gen_num_up_to(5)\n",
    "print([var for var in varList])"
   ]
  },
  {
   "cell_type": "code",
   "execution_count": null,
   "metadata": {
    "colab": {
     "base_uri": "https://localhost:8080/",
     "height": 35
    },
    "id": "qNauaLxSIl2b",
    "outputId": "ea673157-675f-4fc6-91d9-fb96116b63fb"
   },
   "outputs": [],
   "source": [
    "def gen_num_up_to(n):\n",
    "    num = 0\n",
    "    while num < n:\n",
    "        yield num\n",
    "        num += 2\n",
    "\n",
    "varList = gen_num_up_to(5)\n",
    "print([var for var in varList])"
   ]
  },
  {
   "cell_type": "code",
   "execution_count": null,
   "metadata": {
    "id": "CjF9QGuBIl2d",
    "outputId": "b6775065-41b2-4b43-83fa-1bbf88489171",
    "scrolled": true
   },
   "outputs": [],
   "source": [
    "varList = range(0, 5, 2)\n",
    "print([var for var in varList])"
   ]
  },
  {
   "cell_type": "code",
   "execution_count": null,
   "metadata": {
    "id": "4bUA0-ttIl2e"
   },
   "outputs": [],
   "source": [
    "def gen_num_up_to(n):\n",
    "    num = 0\n",
    "    while num < n:\n",
    "        yield num\n",
    "        num += 1"
   ]
  },
  {
   "cell_type": "code",
   "execution_count": null,
   "metadata": {
    "id": "bna6GlUtIl2f",
    "outputId": "901fdc5d-0cc7-449f-b3cf-8058f4b2ee7c"
   },
   "outputs": [],
   "source": [
    "aggregator = []\n",
    "\n",
    "for i in range(1, 5):\n",
    "    aggregator.append([v for v in gen_num_up_to(5)])\n",
    "aggregator"
   ]
  },
  {
   "cell_type": "markdown",
   "metadata": {
    "id": "O9ABhIG2Il2h"
   },
   "source": [
    "## Challenge 3! Convert the following formula into a Function Code\n",
    "\n",
    "$$ g(z) = \\frac{1}{1+e^{-z}}  $$\n",
    "\n",
    "When \n",
    "\n",
    "z = [2, 4, 6, 8, 10, 12, 14, 16, 18, 20]  and  \n",
    "e = [1.718, 2.718, 3.718, 4.718, 5.718, 6.718, 7.718, 8.718, 9.718, 10.718];   \n",
    "g(z) should be in a LIST form.\n",
    "\n",
    "Calculation of Array Values should be in Iteration form."
   ]
  },
  {
   "cell_type": "markdown",
   "metadata": {
    "colab": {
     "base_uri": "https://localhost:8080/",
     "height": 71
    },
    "id": "YHmnFXiEIl2h",
    "outputId": "6f4bdab3-03e1-4a27-8989-29a000fd7bd0"
   },
   "source": [
    "# Libraries in Data Science\n",
    "\n",
    "*Computation and Data Analysis Libraries*\n",
    "* Pandas\n",
    "* Numpy\n",
    "\n",
    "*Visualization Libraries*\n",
    "* Seaborn\n",
    "* MAtplotlib"
   ]
  },
  {
   "cell_type": "code",
   "execution_count": null,
   "metadata": {},
   "outputs": [],
   "source": [
    "# import libraries\n",
    "import numpy as np\n",
    "import pandas as pd\n",
    "import seaborn as sns\n",
    "import matplotlib.pyplot as plt"
   ]
  },
  {
   "cell_type": "markdown",
   "metadata": {},
   "source": [
    "## Introduction to Numpy\n",
    "\n",
    "NumPy is a python package that stands for ‘Numerical Python’. \n",
    "<br> Numpy is the core library for scientific computing, which contains a powerful n-dimensional array object, provides tools for integrating C, C++, etc. </br>\n",
    "<br> It contains a powerful N-dimensional array object. </br>"
   ]
  },
  {
   "cell_type": "markdown",
   "metadata": {
    "id": "qMRLcDuDIl2j"
   },
   "source": [
    "## Vectors, Matrices and Computation"
   ]
  },
  {
   "cell_type": "code",
   "execution_count": null,
   "metadata": {
    "id": "bfefDv73Il2j",
    "outputId": "542a709e-fd57-4099-c4e3-663a067a9635"
   },
   "outputs": [],
   "source": [
    "np.array(range(100))"
   ]
  },
  {
   "cell_type": "markdown",
   "metadata": {
    "id": "tt_xxbgcIl2m"
   },
   "source": [
    "It's the same as just: "
   ]
  },
  {
   "cell_type": "code",
   "execution_count": null,
   "metadata": {
    "id": "Yynx5gjyIl2m",
    "outputId": "7507e3da-2831-4a64-ec37-94ab8a733783",
    "scrolled": true
   },
   "outputs": [],
   "source": [
    "np.arange(0, 100)"
   ]
  },
  {
   "cell_type": "markdown",
   "metadata": {
    "id": "ZDL9m29kIl2o"
   },
   "source": [
    "## Computing vector computations\n",
    "### Vector to scalar"
   ]
  },
  {
   "cell_type": "code",
   "execution_count": null,
   "metadata": {
    "id": "FFk4wkXuIl2p",
    "outputId": "89463e14-3da0-4cde-dadc-6a5c255b8841"
   },
   "outputs": [],
   "source": [
    "varArray = np.arange(0, 5)\n",
    "varArray * 2"
   ]
  },
  {
   "cell_type": "markdown",
   "metadata": {
    "id": "eWzJRbmUIl2s"
   },
   "source": [
    "### Vector to vector: Dot Product"
   ]
  },
  {
   "cell_type": "code",
   "execution_count": null,
   "metadata": {
    "id": "b4L4WATqIl2s",
    "outputId": "c8172870-5da5-429c-da34-e3629d562b8c"
   },
   "outputs": [],
   "source": [
    "varArrayA = np.arange(0,5)\n",
    "varArrayB = np.arange(5,10)\n",
    "\n",
    "print(varArrayA)\n",
    "print(varArrayB)\n",
    "print(np.dot(varArrayA, varArrayB))"
   ]
  },
  {
   "cell_type": "markdown",
   "metadata": {
    "id": "1-U_qPbjIl2u"
   },
   "source": [
    "### Vector to vector: Element-wise multiplication"
   ]
  },
  {
   "cell_type": "code",
   "execution_count": null,
   "metadata": {
    "id": "DT03vIGuIl2u",
    "outputId": "0f7214f7-063b-4cd0-f75f-779f94b2617e"
   },
   "outputs": [],
   "source": [
    "varArrayA * varArrayB"
   ]
  },
  {
   "cell_type": "markdown",
   "metadata": {
    "id": "yDuyk0n6Il2v"
   },
   "source": [
    "## Matrix to Matrix: Matrix Multiplication "
   ]
  },
  {
   "cell_type": "code",
   "execution_count": null,
   "metadata": {
    "colab": {
     "base_uri": "https://localhost:8080/",
     "height": 156
    },
    "id": "wsmsN2ZDIl2x",
    "outputId": "a6cf47a4-c732-4a44-ca4c-5eae75457942"
   },
   "outputs": [],
   "source": [
    "mat_a = np.random.randint(0, 5, size=(4,4))\n",
    "print(mat_a)\n",
    "print(mat_a * 2)"
   ]
  },
  {
   "cell_type": "markdown",
   "metadata": {
    "id": "BmHDN89AIl20"
   },
   "source": [
    "# Introduction to Pandas\n",
    "\n",
    "Pandas contain data structures and data manipulation tools designed for data cleaning and analysis.\n",
    "<br> While pandas adopt many coding idioms from NumPy, the biggest difference is that pandas is designed for working with tabular or heterogeneous data. NumPy, by contrast, is best suited for working with homogeneous numerical array data. </br>\n",
    "<br> The name Pandas is derived from the term “panel data”, an econometrics term for multidimensional structured data sets. </br>"
   ]
  },
  {
   "cell_type": "code",
   "execution_count": null,
   "metadata": {
    "colab": {
     "base_uri": "https://localhost:8080/",
     "height": 398
    },
    "id": "1PhcbOKgIl20",
    "outputId": "6d31ed74-2593-43f2-b457-9b45ac9e9188"
   },
   "outputs": [],
   "source": [
    "data = pd.read_csv(\"movie_metadata.csv\")"
   ]
  },
  {
   "cell_type": "code",
   "execution_count": null,
   "metadata": {
    "id": "-jax5p6zIl23",
    "outputId": "a61f974d-de06-45d9-abb7-505a9d2b1482"
   },
   "outputs": [],
   "source": [
    "data.shape"
   ]
  },
  {
   "cell_type": "code",
   "execution_count": null,
   "metadata": {
    "id": "_AZjX827Il24",
    "outputId": "f94540d6-7bfe-4858-cc8c-974610459129"
   },
   "outputs": [],
   "source": [
    "data.columns"
   ]
  },
  {
   "cell_type": "code",
   "execution_count": null,
   "metadata": {},
   "outputs": [],
   "source": [
    "data.head()"
   ]
  },
  {
   "cell_type": "markdown",
   "metadata": {
    "id": "fdiLbnrhIl25"
   },
   "source": [
    "## Slicing data frames"
   ]
  },
  {
   "cell_type": "code",
   "execution_count": null,
   "metadata": {
    "id": "FitBJORFIl26",
    "outputId": "a5638335-a7cf-4765-f8c2-b221c40c6b83"
   },
   "outputs": [],
   "source": [
    "data[:4]"
   ]
  },
  {
   "cell_type": "markdown",
   "metadata": {
    "id": "POhOMoKfIl27"
   },
   "source": [
    "## Indexing Columns"
   ]
  },
  {
   "cell_type": "code",
   "execution_count": null,
   "metadata": {
    "id": "yqG-9U1UIl28",
    "outputId": "86f97c05-9d78-4092-f05b-078cea1c8d0e"
   },
   "outputs": [],
   "source": [
    "data.director_name[:4]"
   ]
  },
  {
   "cell_type": "code",
   "execution_count": null,
   "metadata": {
    "id": "S0qyJGG5Il29",
    "outputId": "65080927-075c-44ad-ad2b-5cdf49b8d6e6"
   },
   "outputs": [],
   "source": [
    "data['director_name'][:4]"
   ]
  },
  {
   "cell_type": "code",
   "execution_count": null,
   "metadata": {
    "id": "4PkT6F2EIl2-",
    "outputId": "409221d8-58f8-4839-bd49-3a82eeac0b61"
   },
   "outputs": [],
   "source": [
    "cols = [\"movie_title\",\"director_name\"]\n",
    "data[cols][:5]"
   ]
  },
  {
   "cell_type": "markdown",
   "metadata": {
    "id": "0mPMMvBMIl3A"
   },
   "source": [
    "## Indexing Rows"
   ]
  },
  {
   "cell_type": "code",
   "execution_count": null,
   "metadata": {
    "id": "eVhkIzwFIl3A",
    "outputId": "ee7292bf-d061-443e-88aa-cb9739b29830"
   },
   "outputs": [],
   "source": [
    "data.iloc[10:12]"
   ]
  },
  {
   "cell_type": "markdown",
   "metadata": {
    "id": "wKFkZl0pIl3B"
   },
   "source": [
    "## Find Movies by James Cameron"
   ]
  },
  {
   "cell_type": "code",
   "execution_count": null,
   "metadata": {},
   "outputs": [],
   "source": [
    "data[data.director_name == ('James Cameron')]"
   ]
  },
  {
   "cell_type": "code",
   "execution_count": null,
   "metadata": {
    "id": "PX-Iw4FKIl3B",
    "outputId": "e1c3ff6e-96cc-47c1-e80e-22a2ce9df4a3",
    "scrolled": false
   },
   "outputs": [],
   "source": [
    "data[data.director_name == ('James Cameron')]"
   ]
  },
  {
   "cell_type": "code",
   "execution_count": null,
   "metadata": {
    "id": "xaqiRvm_Il3D",
    "outputId": "bbb1f768-ef46-4820-b442-7457b4647ed4"
   },
   "outputs": [],
   "source": [
    "# This was added as an alternative way on searching for a director name\n",
    "data[data.director_name.str.contains('James') == True ]"
   ]
  },
  {
   "cell_type": "markdown",
   "metadata": {
    "id": "FTeXkxAjIl3E"
   },
   "source": [
    "## Sort films by gross earnings"
   ]
  },
  {
   "cell_type": "code",
   "execution_count": null,
   "metadata": {
    "id": "QF4uxsrIIl3E",
    "outputId": "3723150b-ff47-42a1-a289-f979badba7b0",
    "scrolled": true
   },
   "outputs": [],
   "source": [
    "sorted_data = data.sort_values(by=\"gross\", ascending=False)\n",
    "sorted_data[:5]"
   ]
  },
  {
   "cell_type": "code",
   "execution_count": null,
   "metadata": {
    "id": "stpAVikuIl3G",
    "outputId": "96dcf822-b102-4ee5-9a8b-3623734ff56a"
   },
   "outputs": [],
   "source": [
    "sorted_data = data.sort_values(by=\"gross\", ascending=False)\n",
    "cols = [\"movie_title\",\"gross\"]\n",
    "sorted_data[cols][:5]"
   ]
  },
  {
   "cell_type": "markdown",
   "metadata": {
    "id": "tvpIRf9gIl3H"
   },
   "source": [
    "## Challenge 4! Get the top 5 films of Michael Bay"
   ]
  },
  {
   "cell_type": "code",
   "execution_count": null,
   "metadata": {
    "id": "SaM1TQ99Il3H"
   },
   "outputs": [],
   "source": []
  },
  {
   "cell_type": "markdown",
   "metadata": {
    "id": "8s5BF5coIl3I"
   },
   "source": [
    "## Multiple Conditions: Find films from the Canada that have Hugh Jackman as the actor_1_name"
   ]
  },
  {
   "cell_type": "code",
   "execution_count": null,
   "metadata": {
    "id": "LktY8yHQIl3J",
    "outputId": "a54f0284-6f87-4074-b71e-8bebd3635d24"
   },
   "outputs": [],
   "source": [
    "data[(data['country'] == 'Canada') & (data['actor_1_name'] == 'Hugh Jackman')]"
   ]
  },
  {
   "cell_type": "markdown",
   "metadata": {
    "id": "WuomrKqpIl3M"
   },
   "source": [
    "## Challenge 5! \n",
    "\n",
    "Find the actor who is the actor_1_name for the movie that grossed exactly 67344392. Then, \n",
    "Find films whose actor_3_name is Omar Sy and actor_1_name is the person from Armageddon."
   ]
  },
  {
   "cell_type": "code",
   "execution_count": null,
   "metadata": {
    "id": "AP0XNQ-TIl3N",
    "scrolled": true
   },
   "outputs": [],
   "source": []
  }
 ],
 "metadata": {
  "colab": {
   "collapsed_sections": [
    "g7OsUht1Il0-",
    "0hLpAvyaIl1R",
    "Rzb0PeWgIl1T",
    "eHBdSfmzIl1V",
    "s0CBBUzrIl1Z",
    "ssoSJfXrIl1b",
    "uv4Gl5HiIl1d",
    "cEeU4i9rIl1h",
    "Ro6KwOZ1Il1j",
    "YwtRiXnjIl1m",
    "b33jaWxJIl1q",
    "ILUgjSzMIl1t",
    "zojTdC05Il12",
    "kUQmePYxIl17",
    "qMRLcDuDIl2j",
    "ZDL9m29kIl2o",
    "eWzJRbmUIl2s",
    "1-U_qPbjIl2u",
    "yDuyk0n6Il2v",
    "QZhmhFfWIl2y",
    "BmHDN89AIl20",
    "fdiLbnrhIl25",
    "POhOMoKfIl27",
    "0mPMMvBMIl3A",
    "wKFkZl0pIl3B",
    "FTeXkxAjIl3E",
    "tvpIRf9gIl3H",
    "8s5BF5coIl3I",
    "WuomrKqpIl3M",
    "1g45ToJ1Il3S",
    "F8zvMI0xIl3V",
    "Mjf1R2ZMIl3W",
    "P4v9YLfEIl3b",
    "Cdx-b3BMIl3c",
    "xWYuF_rkIl3e",
    "qDVbjwbNIl3h",
    "wTtjKmOdIl3l",
    "-FGEGx4vIl3n",
    "Wtsz1wwFIl3t",
    "dcE_eW_LIl3v",
    "BQRjZ9xmIl3w",
    "fKNm9TMBIl3x",
    "CSN-8hhjIl30",
    "MN7o1L-yIl31",
    "djEJbPeIIl32",
    "otn8OsXHIl33",
    "OuzelhxDIl35",
    "yKpnBTuDIl36",
    "QupM9Uj3Il39",
    "LlGFhYstIl3-",
    "dBwoWQLoIl3_",
    "yIObHKDKIl4A",
    "iTR6rr78Il4B",
    "VSO5SZp8Il4C",
    "oINlcOe7Il4D",
    "QxO5xsmeIl4F",
    "kmD_COegIl4H",
    "ZvV_sZF0Il4I",
    "RvGxONyhIl4J",
    "MHWL9ATRIl4L",
    "7BOPj7dnIl4O",
    "2FIOdy6JIl4R"
   ],
   "name": "Python_Shudent__Copy.ipynb",
   "provenance": [],
   "toc_visible": true
  },
  "kernelspec": {
   "display_name": "Python 3 (ipykernel)",
   "language": "python",
   "name": "python3"
  },
  "language_info": {
   "codemirror_mode": {
    "name": "ipython",
    "version": 3
   },
   "file_extension": ".py",
   "mimetype": "text/x-python",
   "name": "python",
   "nbconvert_exporter": "python",
   "pygments_lexer": "ipython3",
   "version": "3.9.7"
  }
 },
 "nbformat": 4,
 "nbformat_minor": 1
}
