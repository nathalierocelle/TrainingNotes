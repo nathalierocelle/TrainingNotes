{
  "cells": [
    {
      "cell_type": "markdown",
      "metadata": {
        "id": "cobMbcs7Q1sb"
      },
      "source": [
        "![](../docs/banner.png)"
      ]
    },
    {
      "cell_type": "markdown",
      "metadata": {
        "id": "oEEdSov_Q1sg"
      },
      "source": [
        "# Python Basics\n",
        "\n"
      ]
    },
    {
      "cell_type": "markdown",
      "metadata": {
        "id": "Mf3Qv0L2Q1sg"
      },
      "source": [
        "## Exercises"
      ]
    },
    {
      "cell_type": "markdown",
      "metadata": {
        "id": "lPSxY6ZYQ1sh"
      },
      "source": [
        "### 1."
      ]
    },
    {
      "cell_type": "markdown",
      "metadata": {
        "id": "56U_XOoYQ1sh"
      },
      "source": [
        "What is 5 to the power of 5?"
      ]
    },
    {
      "cell_type": "code",
      "execution_count": null,
      "metadata": {
        "id": "bSxCJ3K0Q1si"
      },
      "outputs": [],
      "source": []
    },
    {
      "cell_type": "markdown",
      "metadata": {
        "id": "WK-pRFFrQ1sk"
      },
      "source": [
        "### 2."
      ]
    },
    {
      "cell_type": "markdown",
      "metadata": {
        "id": "0ZrIj1HxQ1sl"
      },
      "source": [
        "What is the remainder from dividing 73 by 6?"
      ]
    },
    {
      "cell_type": "code",
      "execution_count": null,
      "metadata": {
        "id": "SQ0feZLeQ1sm"
      },
      "outputs": [],
      "source": []
    },
    {
      "cell_type": "markdown",
      "metadata": {
        "id": "zcVjGoL7Q1sm"
      },
      "source": [
        "### 3."
      ]
    },
    {
      "cell_type": "markdown",
      "metadata": {
        "id": "OcRhO4wuQ1sn"
      },
      "source": [
        "How many times does the whole number 3 go into 123? What is the remainder of dividing 123 by 3?"
      ]
    },
    {
      "cell_type": "code",
      "execution_count": null,
      "metadata": {
        "id": "CpkLpKHKQ1so"
      },
      "outputs": [],
      "source": []
    },
    {
      "cell_type": "markdown",
      "metadata": {
        "id": "hTBjw7r3Q1sq"
      },
      "source": [
        "### 4."
      ]
    },
    {
      "cell_type": "markdown",
      "metadata": {
        "id": "xK8Otu-nQ1sq"
      },
      "source": [
        "Split the following string into a list by splitting on the space character:"
      ]
    },
    {
      "cell_type": "code",
      "execution_count": null,
      "metadata": {
        "id": "D6l-__H-Q1sr"
      },
      "outputs": [],
      "source": []
    },
    {
      "cell_type": "markdown",
      "metadata": {
        "id": "cZhTbyLpQ1sr"
      },
      "source": [
        "### 5."
      ]
    },
    {
      "cell_type": "markdown",
      "metadata": {
        "id": "0u9xa-tJQ1sr"
      },
      "source": [
        "Given the following variables:\n",
        "\n",
        "```\n",
        "thing = \"light\"\n",
        "speed = 299792458  # m/s\n",
        "```\n",
        "\n",
        "Use f-strings to print:\n",
        "\n",
        "```\n",
        "The speed of light is 2.997925e+08 m/s.\n",
        "```"
      ]
    },
    {
      "cell_type": "code",
      "execution_count": null,
      "metadata": {
        "id": "UZoBou6MQ1ss"
      },
      "outputs": [],
      "source": []
    },
    {
      "cell_type": "markdown",
      "metadata": {
        "id": "RdKaNmvTQ1ss"
      },
      "source": [
        "### 6."
      ]
    },
    {
      "cell_type": "markdown",
      "metadata": {
        "id": "cK1qnMxOQ1ss"
      },
      "source": [
        "Given this nested list, use indexing to grab the word \"MDS\":"
      ]
    },
    {
      "cell_type": "code",
      "execution_count": null,
      "metadata": {
        "id": "DAGXCClDQ1st"
      },
      "outputs": [],
      "source": [
        "l = [10, [3, 4], [5, [100, 200, [\"MDS\"]], 23, 11], 1, 7]"
      ]
    },
    {
      "cell_type": "markdown",
      "metadata": {
        "id": "JdjUO5kiQ1st"
      },
      "source": [
        "### 7."
      ]
    },
    {
      "cell_type": "markdown",
      "metadata": {
        "id": "NU7zklDYQ1st"
      },
      "source": [
        "Given this nest dictionary grab the word \"MDS\":"
      ]
    },
    {
      "cell_type": "code",
      "execution_count": null,
      "metadata": {
        "id": "3e3UpPVAQ1su"
      },
      "outputs": [],
      "source": [
        "d = {\n",
        "    \"outer\": [\n",
        "        1,\n",
        "        2,\n",
        "        3,\n",
        "        {\"inner\": [\"this\", \"is\", \"inception\", {\"inner_inner\": [1, 2, 3, \"MDS\"]}]},\n",
        "    ]\n",
        "}\n"
      ]
    },
    {
      "cell_type": "markdown",
      "metadata": {
        "id": "IHF8Yd2pQ1su"
      },
      "source": [
        "### 8."
      ]
    },
    {
      "cell_type": "markdown",
      "metadata": {
        "id": "nZWT0oHSQ1su"
      },
      "source": [
        "Why does the following cell return an error?"
      ]
    },
    {
      "cell_type": "code",
      "execution_count": null,
      "metadata": {
        "tags": [
          "raises-exception"
        ],
        "id": "filHHxLDQ1su"
      },
      "outputs": [],
      "source": [
        "t = (1, 2, 3, 4, 5)\n",
        "t[-1] = 6"
      ]
    },
    {
      "cell_type": "markdown",
      "metadata": {
        "id": "wnBQ5fffQ1sv"
      },
      "source": [
        "### 9."
      ]
    },
    {
      "cell_type": "markdown",
      "metadata": {
        "id": "AzZTuYwhQ1sw"
      },
      "source": [
        "Use string methods to extract the website domain from an email, e.g., from the string `\"tomas.beuzen@fakemail.com\"`, you should extract `\"fakemail\"`."
      ]
    },
    {
      "cell_type": "code",
      "execution_count": null,
      "metadata": {
        "id": "1Hw-nQYtQ1sw"
      },
      "outputs": [],
      "source": [
        "email = \"tomas.beuzen@fakemail.com\"\n"
      ]
    },
    {
      "cell_type": "markdown",
      "metadata": {
        "id": "fpDSbz6XQ1sw"
      },
      "source": [
        "### 10."
      ]
    },
    {
      "cell_type": "markdown",
      "metadata": {
        "id": "x0O_qisPQ1sw"
      },
      "source": [
        "Given the variable `language` which contains a string, use `if/elif/else` to write a program that:\n",
        "- return \"I love snakes!\" if `language` is `\"python\"` (any kind of capitalization)\n",
        "- return \"Are you a pirate?\" if `language` is `\"R\"` (any kind of capitalization)\n",
        "- else return \"What is `language`?\" if `language` is anything else."
      ]
    },
    {
      "cell_type": "code",
      "execution_count": null,
      "metadata": {
        "id": "ZzfhfhaDQ1sw"
      },
      "outputs": [],
      "source": []
    }
  ],
  "metadata": {
    "kernelspec": {
      "display_name": "Python 3 (ipykernel)",
      "language": "python",
      "name": "python3"
    },
    "language_info": {
      "codemirror_mode": {
        "name": "ipython",
        "version": 3
      },
      "file_extension": ".py",
      "mimetype": "text/x-python",
      "name": "python",
      "nbconvert_exporter": "python",
      "pygments_lexer": "ipython3",
      "version": "3.9.7"
    },
    "colab": {
      "provenance": [],
      "collapsed_sections": []
    }
  },
  "nbformat": 4,
  "nbformat_minor": 0
}