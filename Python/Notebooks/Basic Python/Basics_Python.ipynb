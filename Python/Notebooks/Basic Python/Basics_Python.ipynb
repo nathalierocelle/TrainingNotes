{
  "cells": [
    {
      "cell_type": "markdown",
      "metadata": {
        "id": "77DNn363dEbW"
      },
      "source": [
        "# Chapter 1: Python Basics"
      ]
    },
    {
      "cell_type": "markdown",
      "metadata": {
        "toc": true,
        "id": "anjvqBXhdEbm"
      },
      "source": [
        "<h2>Chapter Outline<span class=\"tocSkip\"></span></h2>\n",
        "<hr>\n",
        "<div class=\"toc\"><ul class=\"toc-item\"><li><span>1. Introduction</li><li><span>2. Basic Python Data Types</a></span></li><li><span>3. Lists and Tuples</a></span></li><li><span>4. String Methods</a></span></li><li><span>5. Dictionaries</a></span></li><li><span>6. Empties</a></span></li><li><span>7. Conditionals</a></span></li></ul></div>"
      ]
    },
    {
      "cell_type": "markdown",
      "metadata": {
        "id": "QphIbUCpdEbq"
      },
      "source": [
        "Learning Objectives\n",
        "<hr>"
      ]
    },
    {
      "cell_type": "markdown",
      "metadata": {
        "id": "hzvUEqR2dEbs"
      },
      "source": [
        "- Create, describe and differentiate standard Python datatypes such as `int`, `float`, `string`, `list`, `dict`, `tuple`, etc.\n",
        "- Perform arithmetic operations like `+`, `-`, `*`, `**` on numeric values.\n",
        "- Perform basic string operations like `.lower()`, `.split()` to manipulate strings.\n",
        "- Compute boolean values using comparison operators operations (`==`, `!=`, `>`, etc.) and boolean operators (`and`, `or`, `not`).\n",
        "- Assign, index, slice and subset values to and from tuples, lists, strings and dictionaries.\n",
        "- Write a conditional statement with `if`, `elif` and `else`.\n",
        "- Identify code blocks by levels of indentation.\n",
        "- Explain the difference between mutable objects like a `list` and immutable objects like a `tuple`."
      ]
    },
    {
      "cell_type": "markdown",
      "metadata": {
        "id": "45vB27IpdEbv"
      },
      "source": [
        "## 1. Introduction\n",
        "<hr>"
      ]
    },
    {
      "cell_type": "markdown",
      "metadata": {
        "id": "qS4YAEMNdEbw"
      },
      "source": [
        "The material presented  assumes no prior knowledge of Python. Experience with programming concepts or another programming language will help, but is not required to understand the material.\n",
        "\n"
      ]
    },
    {
      "cell_type": "markdown",
      "metadata": {
        "id": "AuQ4YdP-dEby"
      },
      "source": [
        "## 2. Basic Python Data Types\n",
        "<hr>"
      ]
    },
    {
      "cell_type": "markdown",
      "metadata": {
        "id": "5GchAYh-dEbz"
      },
      "source": [
        "A **value** is a piece of data that a computer program works with such as a number or text. There are different **types** of values: `42` is an integer and `\"Hello!\"` is a string. A **variable** is a name that refers to a value. In mathematics and statistics, we usually use variable names like $x$ and $y$. In Python, we can use any word as a variable name as long as it starts with a letter or an underscore. However, it should not be a [reserved word](https://docs.python.org/3.3/reference/lexical_analysis.html#keywords) in Python such as `for`, `while`, `class`, `lambda`, etc. as these words encode special functionality in Python that we don't want to overwrite!\n",
        "\n",
        "It can be helpful to think of a variable as a box that holds some information (a single number, a vector, a string, etc). We use the **assignment operator** `=` to assign a value to a variable.\n",
        "\n",
        "![](img/chapter1/box.png)\n",
        "\n",
        "Image modified from: [medium.com](https://www.google.com/url?sa=i&url=https%3A%2F%2Fmedium.com%2F%40stevenpcurtis.sc%2Fwhat-is-a-variable-3447ac1331b9&psig=AOvVaw3YbYfgb7XFOJ_sHP5eliob&ust=1595365663851000&source=images&cd=vfe&ved=0CA0QjhxqFwoTCMi8nrfe3OoCFQAAAAAdAAAAABAZ)\n",
        "\n",
        "```{tip}\n",
        "See the [Python 3 documentation](https://docs.python.org/3/library/stdtypes.html) for a summary of the standard built-in Python datatypes.\n",
        "```"
      ]
    },
    {
      "cell_type": "markdown",
      "metadata": {
        "id": "2BH5ZcD1dEb2"
      },
      "source": [
        "### Common built-in Python data types\n",
        "\n",
        "| English name          | Type name  | Type Category  | Description                                   | Example                                    |\n",
        "| :-------------------- | :--------- | :------------- | :-------------------------------------------- | :----------------------------------------- |\n",
        "| integer               | `int`      | Numeric Type   | positive/negative whole numbers               | `42`                                       |\n",
        "| floating point number | `float`    | Numeric Type   | real number in decimal form                   | `3.14159`                                  |\n",
        "| boolean               | `bool`     | Boolean Values | true or false                                 | `True`                                     |\n",
        "| string                | `str`      | Sequence Type  | text                                          | `\"I Can Has Cheezburger?\"`                 |\n",
        "| list                  | `list`     | Sequence Type  | a collection of objects - mutable & ordered   | `['Ali', 'Xinyi', 'Miriam']`               |\n",
        "| tuple                 | `tuple`    | Sequence Type  | a collection of objects - immutable & ordered | `('Thursday', 6, 9, 2018)`                 |\n",
        "| dictionary            | `dict`     | Mapping Type   | mapping of key-value pairs                    | `{'name':'DSCI', 'code':511, 'credits':2}` |\n",
        "| none                  | `NoneType` | Null Object    | represents no value                           | `None`                                     |"
      ]
    },
    {
      "cell_type": "markdown",
      "metadata": {
        "id": "LWOG5ahzdEb5"
      },
      "source": [
        "### Numeric data types"
      ]
    },
    {
      "cell_type": "markdown",
      "metadata": {
        "id": "gow1kpNgdEb6"
      },
      "source": [
        "There are three distinct numeric types: `integers`, `floating point numbers`, and `complex numbers` (not covered here). We can determine the type of an object in Python using `type()`. We can print the value of the object using `print()`."
      ]
    },
    {
      "cell_type": "code",
      "execution_count": null,
      "metadata": {
        "colab": {
          "base_uri": "https://localhost:8080/",
          "height": 131
        },
        "id": "XC9BRONbdEb8",
        "outputId": "41c7e46c-2ecb-4310-e021-d6860edfe822"
      },
      "outputs": [
        {
          "output_type": "error",
          "ename": "SyntaxError",
          "evalue": "ignored",
          "traceback": [
            "\u001b[0;36m  File \u001b[0;32m\"<ipython-input-2-de0bec6faee7>\"\u001b[0;36m, line \u001b[0;32m1\u001b[0m\n\u001b[0;31m    1. Data type x = 20\u001b[0m\n\u001b[0m          ^\u001b[0m\n\u001b[0;31mSyntaxError\u001b[0m\u001b[0;31m:\u001b[0m invalid syntax\n"
          ]
        }
      ],
      "source": [
        "1. Data type x = 20\n",
        "2. print()\n",
        "3. type()"
      ]
    },
    {
      "cell_type": "code",
      "execution_count": null,
      "metadata": {
        "id": "1kZ3lN80dEcA"
      },
      "outputs": [],
      "source": [
        "x = 20"
      ]
    },
    {
      "cell_type": "code",
      "execution_count": null,
      "metadata": {
        "colab": {
          "base_uri": "https://localhost:8080/"
        },
        "id": "Sxle2PEkdEcC",
        "outputId": "96933f5f-7d43-4de8-beb8-9d2aa33170a4"
      },
      "outputs": [
        {
          "output_type": "stream",
          "name": "stdout",
          "text": [
            "20\n"
          ]
        }
      ],
      "source": [
        "print(x)"
      ]
    },
    {
      "cell_type": "code",
      "execution_count": null,
      "metadata": {
        "colab": {
          "base_uri": "https://localhost:8080/"
        },
        "id": "bh48sd3adEcG",
        "outputId": "0baf13c7-7664-43fb-88e5-0944cf3f5b0a"
      },
      "outputs": [
        {
          "output_type": "execute_result",
          "data": {
            "text/plain": [
              "int"
            ]
          },
          "metadata": {},
          "execution_count": 5
        }
      ],
      "source": [
        "type(x)"
      ]
    },
    {
      "cell_type": "code",
      "execution_count": null,
      "metadata": {
        "id": "MXPvZXDhdEcH"
      },
      "outputs": [],
      "source": [
        "y = 20.5"
      ]
    },
    {
      "cell_type": "code",
      "execution_count": null,
      "metadata": {
        "colab": {
          "base_uri": "https://localhost:8080/"
        },
        "id": "XXlHiQaDdEcI",
        "outputId": "3e4cbb51-5917-4d34-9307-f7cf8238ec4d"
      },
      "outputs": [
        {
          "output_type": "stream",
          "name": "stdout",
          "text": [
            "20.5\n"
          ]
        }
      ],
      "source": [
        "print(y)"
      ]
    },
    {
      "cell_type": "code",
      "execution_count": null,
      "metadata": {
        "colab": {
          "base_uri": "https://localhost:8080/"
        },
        "id": "itIN77MudEcJ",
        "outputId": "3ccfb2fb-029b-4053-b7ad-2e686bcd828f"
      },
      "outputs": [
        {
          "output_type": "execute_result",
          "data": {
            "text/plain": [
              "float"
            ]
          },
          "metadata": {},
          "execution_count": 8
        }
      ],
      "source": [
        "type(y)"
      ]
    },
    {
      "cell_type": "code",
      "execution_count": null,
      "metadata": {
        "id": "HFdANzfDdEcK"
      },
      "outputs": [],
      "source": [
        "x = 42"
      ]
    },
    {
      "cell_type": "code",
      "execution_count": null,
      "metadata": {
        "id": "Y7gXpUaDdEcM",
        "outputId": "f91d10a9-0b78-44da-8c0f-85bec921bb9b"
      },
      "outputs": [
        {
          "data": {
            "text/plain": [
              "42"
            ]
          },
          "execution_count": 9,
          "metadata": {},
          "output_type": "execute_result"
        }
      ],
      "source": [
        "x"
      ]
    },
    {
      "cell_type": "code",
      "execution_count": null,
      "metadata": {
        "id": "9vMNjxaGdEcN",
        "outputId": "67a232fd-1ed4-4b42-bd12-ff3b39c0c3e5"
      },
      "outputs": [
        {
          "data": {
            "text/plain": [
              "int"
            ]
          },
          "execution_count": 2,
          "metadata": {},
          "output_type": "execute_result"
        }
      ],
      "source": [
        "type(x)"
      ]
    },
    {
      "cell_type": "code",
      "execution_count": null,
      "metadata": {
        "id": "GhEsfslLdEcO",
        "outputId": "373af4ba-a1d3-4ef6-d85d-d9cd7fb725a2"
      },
      "outputs": [
        {
          "name": "stdout",
          "output_type": "stream",
          "text": [
            "42\n"
          ]
        }
      ],
      "source": [
        "print(x)"
      ]
    },
    {
      "cell_type": "markdown",
      "metadata": {
        "id": "WiS4RFzBdEcP"
      },
      "source": [
        "In Jupyter/IPython (an interactive version of Python), the last line of a cell will automatically be printed to screen so we don't actually need to explicitly call `print()`."
      ]
    },
    {
      "cell_type": "code",
      "execution_count": null,
      "metadata": {
        "id": "SKqoT7kCdEcQ",
        "outputId": "35a4df68-6f62-411d-8e9c-74869e2d04fd"
      },
      "outputs": [
        {
          "data": {
            "text/plain": [
              "42"
            ]
          },
          "execution_count": 4,
          "metadata": {},
          "output_type": "execute_result"
        }
      ],
      "source": [
        "x  # Anything after the pound/hash symbol is a comment and will not be run"
      ]
    },
    {
      "cell_type": "code",
      "execution_count": null,
      "metadata": {
        "id": "m93z8Cy4dEcR",
        "outputId": "28dd4044-17cb-427a-ca96-a424032d73cc"
      },
      "outputs": [
        {
          "data": {
            "text/plain": [
              "3.14159"
            ]
          },
          "execution_count": 10,
          "metadata": {},
          "output_type": "execute_result"
        }
      ],
      "source": [
        "pi = 3.14159\n",
        "pi"
      ]
    },
    {
      "cell_type": "code",
      "execution_count": null,
      "metadata": {
        "id": "zxmfEJwgdEcS",
        "outputId": "6f43d18a-455e-4813-d148-d317367da7e7"
      },
      "outputs": [
        {
          "data": {
            "text/plain": [
              "float"
            ]
          },
          "execution_count": 11,
          "metadata": {},
          "output_type": "execute_result"
        }
      ],
      "source": [
        "type(pi)"
      ]
    },
    {
      "cell_type": "code",
      "execution_count": null,
      "metadata": {
        "id": "VAXjEseTdEcT",
        "outputId": "3f7b095a-7128-4c6d-948c-b90bb5636534"
      },
      "outputs": [
        {
          "data": {
            "text/plain": [
              "str"
            ]
          },
          "execution_count": 13,
          "metadata": {},
          "output_type": "execute_result"
        }
      ],
      "source": [
        "name = \"Erum\"\n",
        "name\n",
        "type(name)"
      ]
    },
    {
      "cell_type": "markdown",
      "metadata": {
        "id": "iG1nmSHIdEcU"
      },
      "source": [
        "### Arithmetic Operators\n",
        "\n",
        "Below is a table of the syntax for common arithmetic operations in Python:\n",
        "\n",
        "| Operator |   Description    |\n",
        "| :------: | :--------------: |\n",
        "|   `+`    |     addition     |\n",
        "|   `-`    |   subtraction    |\n",
        "|   `*`    |  multiplication  |\n",
        "|   `/`    |     division     |\n",
        "|   `**`   |  exponentiation  |\n",
        "|   `//`   | integer division / floor division |\n",
        "|   `%`    |      modulo      |\n",
        "\n",
        "Let's have a go at applying these operators to numeric types and observe the results."
      ]
    },
    {
      "cell_type": "code",
      "execution_count": null,
      "metadata": {
        "id": "S6JW03_QdEcV",
        "outputId": "23b4b8c0-3da7-4eb4-cf27-6a58bea0fc27"
      },
      "outputs": [
        {
          "data": {
            "text/plain": [
              "15"
            ]
          },
          "execution_count": 14,
          "metadata": {},
          "output_type": "execute_result"
        }
      ],
      "source": [
        "1 + 2 + 3 + 4 + 5  # add"
      ]
    },
    {
      "cell_type": "code",
      "execution_count": null,
      "metadata": {
        "id": "bkzKbkpxdEcV",
        "outputId": "eafbb287-03a2-4487-ce7c-a6c86f7c9ab8"
      },
      "outputs": [
        {
          "data": {
            "text/plain": [
              "6.28318"
            ]
          },
          "execution_count": 15,
          "metadata": {},
          "output_type": "execute_result"
        }
      ],
      "source": [
        "2 * 3.14159  # multiply"
      ]
    },
    {
      "cell_type": "code",
      "execution_count": null,
      "metadata": {
        "id": "jz2-qwztdEcW",
        "outputId": "0eed82e8-7643-4097-daa7-2493910a6c9e"
      },
      "outputs": [
        {
          "data": {
            "text/plain": [
              "1024"
            ]
          },
          "execution_count": 16,
          "metadata": {},
          "output_type": "execute_result"
        }
      ],
      "source": [
        "2 ** 10  # exponent"
      ]
    },
    {
      "cell_type": "markdown",
      "metadata": {
        "id": "DojKsLgBdEcX"
      },
      "source": [
        "Division may produce a different `dtype` than expected, it will change `int` to `float`."
      ]
    },
    {
      "cell_type": "code",
      "execution_count": null,
      "metadata": {
        "id": "HKKEM8qvdEcY",
        "outputId": "8d3b190f-1f4a-4ecf-c04d-c9aed5b73ece"
      },
      "outputs": [
        {
          "data": {
            "text/plain": [
              "int"
            ]
          },
          "execution_count": 17,
          "metadata": {},
          "output_type": "execute_result"
        }
      ],
      "source": [
        "num = 2\n",
        "type(num)"
      ]
    },
    {
      "cell_type": "code",
      "execution_count": null,
      "metadata": {
        "id": "2ZR8EfQpdEcZ",
        "outputId": "ecac8e70-1fa9-4b54-e038-e7c2be18c0a1"
      },
      "outputs": [
        {
          "data": {
            "text/plain": [
              "float"
            ]
          },
          "execution_count": 19,
          "metadata": {},
          "output_type": "execute_result"
        }
      ],
      "source": [
        "type(num/num)"
      ]
    },
    {
      "cell_type": "code",
      "execution_count": null,
      "metadata": {
        "id": "AFZI29aodEcZ",
        "outputId": "b88b8630-050d-43ba-b76e-377e5706ef7d"
      },
      "outputs": [
        {
          "data": {
            "text/plain": [
              "1.0"
            ]
          },
          "execution_count": 15,
          "metadata": {},
          "output_type": "execute_result"
        }
      ],
      "source": [
        "int_2 / int_2  # divison"
      ]
    },
    {
      "cell_type": "code",
      "execution_count": null,
      "metadata": {
        "id": "qT0KMiRfdEca",
        "outputId": "852167fe-c506-45f5-e41f-8ed44e45fd4a"
      },
      "outputs": [
        {
          "data": {
            "text/plain": [
              "float"
            ]
          },
          "execution_count": 16,
          "metadata": {},
          "output_type": "execute_result"
        }
      ],
      "source": [
        "type(int_2 / int_2)"
      ]
    },
    {
      "cell_type": "markdown",
      "metadata": {
        "id": "LKmfXffrdEcm"
      },
      "source": [
        "But the syntax `//` allows us to do \"integer division\" (aka \"floor division\") and retain the `int` data type, it always rounds down."
      ]
    },
    {
      "cell_type": "code",
      "execution_count": null,
      "metadata": {
        "id": "XX8cnqZudEcn",
        "outputId": "19c2d6d0-107d-4329-b226-17ce83f6fb8a"
      },
      "outputs": [
        {
          "data": {
            "text/plain": [
              "float"
            ]
          },
          "execution_count": 25,
          "metadata": {},
          "output_type": "execute_result"
        }
      ],
      "source": [
        "type(100/2)"
      ]
    },
    {
      "cell_type": "code",
      "execution_count": null,
      "metadata": {
        "id": "b-Q6SzxgdEco",
        "outputId": "4166f99c-9b70-4526-dfb3-72608a43edee"
      },
      "outputs": [
        {
          "data": {
            "text/plain": [
              "50.5"
            ]
          },
          "execution_count": 20,
          "metadata": {},
          "output_type": "execute_result"
        }
      ],
      "source": [
        "101 / 2"
      ]
    },
    {
      "cell_type": "code",
      "execution_count": null,
      "metadata": {
        "id": "xDreJvqEdEco",
        "outputId": "774ae7f4-8a56-4cce-beaf-a6a57a9f4ad2"
      },
      "outputs": [
        {
          "data": {
            "text/plain": [
              "float"
            ]
          },
          "execution_count": 21,
          "metadata": {},
          "output_type": "execute_result"
        }
      ],
      "source": [
        "type(101/2)"
      ]
    },
    {
      "cell_type": "code",
      "execution_count": null,
      "metadata": {
        "id": "l7H0UZZtdEcp",
        "outputId": "d3f8a750-63ce-4c36-9d4a-d9edb0955d93"
      },
      "outputs": [
        {
          "data": {
            "text/plain": [
              "50"
            ]
          },
          "execution_count": 22,
          "metadata": {},
          "output_type": "execute_result"
        }
      ],
      "source": [
        "101 // 2  # \"floor division\" - always rounds down"
      ]
    },
    {
      "cell_type": "code",
      "execution_count": null,
      "metadata": {
        "id": "yWimQPJjdEcq",
        "outputId": "1c2edc0e-c827-4685-e74a-e1470c90dc0d"
      },
      "outputs": [
        {
          "data": {
            "text/plain": [
              "int"
            ]
          },
          "execution_count": 23,
          "metadata": {},
          "output_type": "execute_result"
        }
      ],
      "source": [
        "type(101//2)"
      ]
    },
    {
      "cell_type": "code",
      "execution_count": null,
      "metadata": {
        "id": "5Ft2OCMOdEcr",
        "outputId": "747b43bb-a53e-4482-afca-c7988b36f73b"
      },
      "outputs": [
        {
          "data": {
            "text/plain": [
              "2"
            ]
          },
          "execution_count": 28,
          "metadata": {},
          "output_type": "execute_result"
        }
      ],
      "source": [
        "11 % 3"
      ]
    },
    {
      "cell_type": "markdown",
      "metadata": {
        "id": "iTZNMWEXdEcr"
      },
      "source": [
        "We refer to this as \"integer division\" or \"floor division\" because it's like calling `int` on the result of a division, which rounds down to the nearest integer, or \"floors\" the result."
      ]
    },
    {
      "cell_type": "code",
      "execution_count": null,
      "metadata": {
        "id": "d9EBsy4NdEcs",
        "outputId": "ce51d4c8-4690-4a9b-98ad-7b41daa88029"
      },
      "outputs": [
        {
          "data": {
            "text/plain": [
              "50"
            ]
          },
          "execution_count": 19,
          "metadata": {},
          "output_type": "execute_result"
        }
      ],
      "source": [
        "int(101 / 2)"
      ]
    },
    {
      "cell_type": "markdown",
      "metadata": {
        "id": "yxqoYzqedEct"
      },
      "source": [
        "The `%` \"modulo\" operator gives us the remainder after division."
      ]
    },
    {
      "cell_type": "code",
      "execution_count": null,
      "metadata": {
        "id": "FINhQnIIdEct",
        "outputId": "a16352ef-e228-4357-8c66-cddc78e781e1"
      },
      "outputs": [
        {
          "data": {
            "text/plain": [
              "0"
            ]
          },
          "execution_count": 20,
          "metadata": {},
          "output_type": "execute_result"
        }
      ],
      "source": [
        "100 % 2  # \"100 mod 2\", or the remainder when 100 is divided by 2"
      ]
    },
    {
      "cell_type": "code",
      "execution_count": null,
      "metadata": {
        "id": "BMFyDCwOdEcu",
        "outputId": "87309e12-43a6-4c97-fa58-17806bbbaffc"
      },
      "outputs": [
        {
          "data": {
            "text/plain": [
              "1"
            ]
          },
          "execution_count": 21,
          "metadata": {},
          "output_type": "execute_result"
        }
      ],
      "source": [
        "101 % 2  # \"101 mod 2\", or the remainder when 101 is divided by 2"
      ]
    },
    {
      "cell_type": "code",
      "execution_count": null,
      "metadata": {
        "id": "ln6OH_s9dEcv",
        "outputId": "212c6d85-ed0b-44d1-f4d1-c8ab664cf036"
      },
      "outputs": [
        {
          "data": {
            "text/plain": [
              "0.5"
            ]
          },
          "execution_count": 22,
          "metadata": {},
          "output_type": "execute_result"
        }
      ],
      "source": [
        "100.5 % 2"
      ]
    },
    {
      "cell_type": "markdown",
      "metadata": {
        "id": "K9nkshzsdEcv"
      },
      "source": [
        "### None\n",
        "\n",
        "`NoneType` is its own type in Python. It only has one possible value, `None` - it represents an object with no value. We'll see it again in a later chapter."
      ]
    },
    {
      "cell_type": "code",
      "execution_count": null,
      "metadata": {
        "id": "E_3LxSsGdEcw"
      },
      "outputs": [],
      "source": [
        "x = None"
      ]
    },
    {
      "cell_type": "code",
      "execution_count": null,
      "metadata": {
        "id": "fXeqUk29dEcx",
        "outputId": "77ce98c4-a907-4cb5-f618-9bdf9a55cd38"
      },
      "outputs": [
        {
          "name": "stdout",
          "output_type": "stream",
          "text": [
            "None\n"
          ]
        }
      ],
      "source": [
        "print(x)"
      ]
    },
    {
      "cell_type": "code",
      "execution_count": null,
      "metadata": {
        "id": "9egz8Jy8dEcx",
        "outputId": "c5aaed81-6e7f-4c93-8146-3e30920efc6d"
      },
      "outputs": [
        {
          "data": {
            "text/plain": [
              "NoneType"
            ]
          },
          "execution_count": 27,
          "metadata": {},
          "output_type": "execute_result"
        }
      ],
      "source": [
        "type(x)"
      ]
    },
    {
      "cell_type": "markdown",
      "metadata": {
        "id": "Y0xheMwZdEcy"
      },
      "source": [
        "### Strings\n",
        "\n",
        "Text is stored as a data type called a `string`. We can think of a string as a sequence of characters. \n",
        "\n",
        "```{tip}\n",
        "Actually they are a sequence of Unicode code points. Here's a [great blog post](https://www.joelonsoftware.com/2003/10/08/the-absolute-minimum-every-software-developer-absolutely-positively-must-know-about-unicode-and-character-sets-no-excuses/) on Unicode if you're interested.\n",
        "```\n",
        "\n",
        "We write strings as characters enclosed with either:\n",
        "  - single quotes, e.g., `'Hello'` \n",
        "  - double quotes, e.g., `\"Goodbye\"`\n",
        "\n",
        "There's no difference between the two methods, but there are cases where having both is useful (more on that below)! We also have triple double quotes, which are typically used for function documentation (more on that in a later chapter), e.g., `\"\"\"This function adds two numbers\"\"\"`."
      ]
    },
    {
      "cell_type": "code",
      "execution_count": null,
      "metadata": {
        "id": "fPyUN1KQdEcz"
      },
      "outputs": [],
      "source": [
        "my_name = \"Jospeh\""
      ]
    },
    {
      "cell_type": "code",
      "execution_count": null,
      "metadata": {
        "id": "sh2aMFOTdEcz",
        "outputId": "d13b254c-f619-4b60-b52d-b53de88e65a9"
      },
      "outputs": [
        {
          "data": {
            "text/plain": [
              "'Jospeh'"
            ]
          },
          "execution_count": 30,
          "metadata": {},
          "output_type": "execute_result"
        }
      ],
      "source": [
        "my_name"
      ]
    },
    {
      "cell_type": "code",
      "execution_count": null,
      "metadata": {
        "id": "5IbW63s7dEc0",
        "outputId": "2a27a5cc-57b2-4290-9e78-c4771d12d6e0"
      },
      "outputs": [
        {
          "data": {
            "text/plain": [
              "str"
            ]
          },
          "execution_count": 31,
          "metadata": {},
          "output_type": "execute_result"
        }
      ],
      "source": [
        "type(my_name)"
      ]
    },
    {
      "cell_type": "code",
      "execution_count": null,
      "metadata": {
        "id": "Hq1VVxOxdEc1"
      },
      "outputs": [],
      "source": [
        "course = \"Python Basic\""
      ]
    },
    {
      "cell_type": "code",
      "execution_count": null,
      "metadata": {
        "id": "0KHWQnQkdEc1",
        "outputId": "613822c6-358d-44b8-e092-76eba5bd512b"
      },
      "outputs": [
        {
          "data": {
            "text/plain": [
              "'Python Basic'"
            ]
          },
          "execution_count": 35,
          "metadata": {},
          "output_type": "execute_result"
        }
      ],
      "source": [
        "course"
      ]
    },
    {
      "cell_type": "code",
      "execution_count": null,
      "metadata": {
        "id": "dv0_KWQ-dEc2",
        "outputId": "b1ab49c7-1646-4e41-c6ca-d2445a42724b"
      },
      "outputs": [
        {
          "data": {
            "text/plain": [
              "str"
            ]
          },
          "execution_count": 36,
          "metadata": {},
          "output_type": "execute_result"
        }
      ],
      "source": [
        "type(course)"
      ]
    },
    {
      "cell_type": "code",
      "execution_count": null,
      "metadata": {
        "id": "tDU3fQeBdEc3",
        "outputId": "499600f8-5a7c-4398-c5e2-3c86cf02c2c5"
      },
      "outputs": [
        {
          "name": "stdout",
          "output_type": "stream",
          "text": [
            "2t\n"
          ]
        }
      ],
      "source": [
        "num = \"2t\"\n",
        "print(num)"
      ]
    },
    {
      "cell_type": "code",
      "execution_count": null,
      "metadata": {
        "id": "M5O1GxR2dEc4",
        "outputId": "aa0ec2a9-388d-4e75-e0d6-1c9caabbcd53"
      },
      "outputs": [
        {
          "ename": "SyntaxError",
          "evalue": "invalid syntax (4170083872.py, line 1)",
          "output_type": "error",
          "traceback": [
            "\u001b[0;36m  File \u001b[0;32m\"/var/folders/dp/0dddlf7j5kx8_cy9js6q9pnr0000gn/T/ipykernel_95826/4170083872.py\"\u001b[0;36m, line \u001b[0;32m1\u001b[0m\n\u001b[0;31m    num 2t\u001b[0m\n\u001b[0m        ^\u001b[0m\n\u001b[0;31mSyntaxError\u001b[0m\u001b[0;31m:\u001b[0m invalid syntax\n"
          ]
        }
      ],
      "source": [
        "num 2t"
      ]
    },
    {
      "cell_type": "markdown",
      "metadata": {
        "id": "720dh_KOdEc4"
      },
      "source": [
        "If the string contains a quotation or apostrophe, we can use a combination of single and double quotes to define the string."
      ]
    },
    {
      "cell_type": "code",
      "execution_count": null,
      "metadata": {
        "id": "8G8Y5uw1dEc5"
      },
      "outputs": [],
      "source": [
        "sentence = \"It's a rainy day.\""
      ]
    },
    {
      "cell_type": "code",
      "execution_count": null,
      "metadata": {
        "id": "gYzvmKeXdEc5",
        "outputId": "f991191d-1c25-4a0f-ee6d-557d0c263062"
      },
      "outputs": [
        {
          "data": {
            "text/plain": [
              "\"It's a rainy day.\""
            ]
          },
          "execution_count": 41,
          "metadata": {},
          "output_type": "execute_result"
        }
      ],
      "source": [
        "sentence"
      ]
    },
    {
      "cell_type": "code",
      "execution_count": null,
      "metadata": {
        "id": "fctrxiSodEc6",
        "outputId": "82bf6f02-4f38-42b3-f089-e7e584a0e975"
      },
      "outputs": [
        {
          "data": {
            "text/plain": [
              "str"
            ]
          },
          "execution_count": 42,
          "metadata": {},
          "output_type": "execute_result"
        }
      ],
      "source": [
        "type(sentence)"
      ]
    },
    {
      "cell_type": "code",
      "execution_count": null,
      "metadata": {
        "id": "1XDW_m4LdEc7"
      },
      "outputs": [],
      "source": [
        "quote = 'Donald Knuth: \"Premature optimization is the root of all evil.\"'"
      ]
    },
    {
      "cell_type": "code",
      "execution_count": null,
      "metadata": {
        "id": "71iBRWn7dEc7",
        "outputId": "ee6953a5-2934-4a00-8aae-2df9de1f458d"
      },
      "outputs": [
        {
          "data": {
            "text/plain": [
              "'Donald Knuth: \"Premature optimization is the root of all evil.\"'"
            ]
          },
          "execution_count": 44,
          "metadata": {},
          "output_type": "execute_result"
        }
      ],
      "source": [
        "quote"
      ]
    },
    {
      "cell_type": "markdown",
      "metadata": {
        "id": "PO9Z5i7IdEc8"
      },
      "source": [
        "### Boolean\n",
        "\n",
        "The Boolean (`bool`) type has two values: `True` and `False`."
      ]
    },
    {
      "cell_type": "code",
      "execution_count": null,
      "metadata": {
        "id": "o9nrmD5edEc8"
      },
      "outputs": [],
      "source": [
        "test = True"
      ]
    },
    {
      "cell_type": "code",
      "execution_count": null,
      "metadata": {
        "id": "s7aRByAwdEc9",
        "outputId": "0c4caed1-0776-4da5-ea5d-08301aeb9d89"
      },
      "outputs": [
        {
          "name": "stdout",
          "output_type": "stream",
          "text": [
            "True\n"
          ]
        },
        {
          "data": {
            "text/plain": [
              "bool"
            ]
          },
          "execution_count": 47,
          "metadata": {},
          "output_type": "execute_result"
        }
      ],
      "source": [
        "print(test)\n",
        "type(test)"
      ]
    },
    {
      "cell_type": "code",
      "execution_count": null,
      "metadata": {
        "id": "bkKZ7_NDdEc-",
        "outputId": "8e6630a6-a453-4057-d0d8-7f3b019c3bc3"
      },
      "outputs": [
        {
          "data": {
            "text/plain": [
              "bool"
            ]
          },
          "execution_count": 43,
          "metadata": {},
          "output_type": "execute_result"
        }
      ],
      "source": [
        "type(the_truth)"
      ]
    },
    {
      "cell_type": "code",
      "execution_count": null,
      "metadata": {
        "id": "aS5dEvvrdEc-"
      },
      "outputs": [],
      "source": [
        "lies = False"
      ]
    },
    {
      "cell_type": "code",
      "execution_count": null,
      "metadata": {
        "id": "CXUt_9JldEc_",
        "outputId": "e837cedc-4def-4a57-9e14-58d7d028f1f4"
      },
      "outputs": [
        {
          "data": {
            "text/plain": [
              "False"
            ]
          },
          "execution_count": 49,
          "metadata": {},
          "output_type": "execute_result"
        }
      ],
      "source": [
        "lies"
      ]
    },
    {
      "cell_type": "code",
      "execution_count": null,
      "metadata": {
        "id": "pcQPpTBjdEdA",
        "outputId": "801a835f-b1c2-40f0-9a9d-4e63a339f1c6"
      },
      "outputs": [
        {
          "data": {
            "text/plain": [
              "bool"
            ]
          },
          "execution_count": 50,
          "metadata": {},
          "output_type": "execute_result"
        }
      ],
      "source": [
        "type(lies)"
      ]
    },
    {
      "cell_type": "markdown",
      "metadata": {
        "id": "1iTwtIKddEdA"
      },
      "source": [
        "### Comparison Operators\n",
        "\n",
        "We can compare objects using comparison operators, and we'll get back a Boolean result:\n",
        "\n",
        "| Operator  | Description                          |\n",
        "| :-------- | :----------------------------------- |\n",
        "| `x == y ` | is `x` equal to `y`?                 |\n",
        "| `x != y`  | is `x` not equal to `y`?             |\n",
        "| `x > y`   | is `x` greater than `y`?             |\n",
        "| `x >= y`  | is `x` greater than or equal to `y`? |\n",
        "| `x < y`   | is `x` less than `y`?                |\n",
        "| `x <= y`  | is `x` less than or equal to `y`?    |\n",
        "| `x is y`  | is `x` the same object as `y`?       |"
      ]
    },
    {
      "cell_type": "code",
      "execution_count": null,
      "metadata": {
        "id": "HO-YPmeRdEdB",
        "outputId": "b4934a7f-7a59-4e51-ce40-dc0f6bd2f2ee"
      },
      "outputs": [
        {
          "data": {
            "text/plain": [
              "False"
            ]
          },
          "execution_count": 53,
          "metadata": {},
          "output_type": "execute_result"
        }
      ],
      "source": [
        "y = 20\n",
        "x = 26\n",
        "x == y"
      ]
    },
    {
      "cell_type": "code",
      "execution_count": null,
      "metadata": {
        "id": "TWwjvjqXdEdC",
        "outputId": "8a67e4b8-95fc-48dd-d24f-3dfa9c7b6736"
      },
      "outputs": [
        {
          "data": {
            "text/plain": [
              "False"
            ]
          },
          "execution_count": 56,
          "metadata": {},
          "output_type": "execute_result"
        }
      ],
      "source": [
        "y = 20\n",
        "x = 20\n",
        "x != y"
      ]
    },
    {
      "cell_type": "code",
      "execution_count": null,
      "metadata": {
        "id": "0Fp8I0e0dEdC",
        "outputId": "dafdc9bc-97a7-4f85-8a6d-f2b87e0bc652"
      },
      "outputs": [
        {
          "data": {
            "text/plain": [
              "True"
            ]
          },
          "execution_count": 58,
          "metadata": {},
          "output_type": "execute_result"
        }
      ],
      "source": [
        "x >= y"
      ]
    },
    {
      "cell_type": "code",
      "execution_count": null,
      "metadata": {
        "id": "lBulLVjXdEdD",
        "outputId": "f5841067-59cf-43f1-d411-7e8c443adf6d"
      },
      "outputs": [
        {
          "data": {
            "text/plain": [
              "True"
            ]
          },
          "execution_count": 59,
          "metadata": {},
          "output_type": "execute_result"
        }
      ],
      "source": [
        "2 < 3"
      ]
    },
    {
      "cell_type": "code",
      "execution_count": null,
      "metadata": {
        "id": "Zw_fAfeYdEdE",
        "outputId": "c247ee3d-8f04-4848-b50e-40eb490e2d1b"
      },
      "outputs": [
        {
          "data": {
            "text/plain": [
              "False"
            ]
          },
          "execution_count": 60,
          "metadata": {},
          "output_type": "execute_result"
        }
      ],
      "source": [
        "\"Deep learning\" == \"Solve all the world's problems\""
      ]
    },
    {
      "cell_type": "code",
      "execution_count": null,
      "metadata": {
        "id": "8bpjZiKJdEdE",
        "outputId": "39753c0c-3bce-44f8-adbb-bdd6308ef787"
      },
      "outputs": [
        {
          "data": {
            "text/plain": [
              "True"
            ]
          },
          "execution_count": 63,
          "metadata": {},
          "output_type": "execute_result"
        }
      ],
      "source": [
        "2 != \"2\""
      ]
    },
    {
      "cell_type": "code",
      "execution_count": null,
      "metadata": {
        "id": "44n1slgpdEdF",
        "outputId": "d992a8b3-d874-4339-98c2-41c48a0552f2"
      },
      "outputs": [
        {
          "name": "stderr",
          "output_type": "stream",
          "text": [
            "<>:1: SyntaxWarning: \"is\" with a literal. Did you mean \"==\"?\n",
            "<>:1: SyntaxWarning: \"is\" with a literal. Did you mean \"==\"?\n",
            "/var/folders/dp/0dddlf7j5kx8_cy9js6q9pnr0000gn/T/ipykernel_95826/564785565.py:1: SyntaxWarning: \"is\" with a literal. Did you mean \"==\"?\n",
            "  2 is 2\n"
          ]
        },
        {
          "data": {
            "text/plain": [
              "True"
            ]
          },
          "execution_count": 62,
          "metadata": {},
          "output_type": "execute_result"
        }
      ],
      "source": [
        "2 is 2"
      ]
    },
    {
      "cell_type": "code",
      "execution_count": null,
      "metadata": {
        "id": "NFdjyhY3dEdF",
        "outputId": "66e29b7e-d7b2-4b30-ac55-91700771190b"
      },
      "outputs": [
        {
          "data": {
            "text/plain": [
              "True"
            ]
          },
          "execution_count": 51,
          "metadata": {},
          "output_type": "execute_result"
        }
      ],
      "source": [
        "2 == 2.0"
      ]
    },
    {
      "cell_type": "markdown",
      "metadata": {
        "id": "8TXD22aGdEdG"
      },
      "source": [
        "### Boolean Operators\n",
        "\n",
        "We also have so-called \"boolean operators\" which also evaluates to either `True` or `False`:\n",
        "\n",
        "| Operator | Description |\n",
        "| :---: | :--- |\n",
        "|`x and y`| are `x` and `y` both True? |\n",
        "|`x or y` | is at least one of `x` and `y` True? |\n",
        "| `not x` | is `x` False? | "
      ]
    },
    {
      "cell_type": "code",
      "execution_count": null,
      "metadata": {
        "id": "RVomApandEdH",
        "outputId": "ef59d383-244c-44db-9081-d6158b4165f1"
      },
      "outputs": [
        {
          "data": {
            "text/plain": [
              "True"
            ]
          },
          "execution_count": 64,
          "metadata": {},
          "output_type": "execute_result"
        }
      ],
      "source": [
        "True and True"
      ]
    },
    {
      "cell_type": "code",
      "execution_count": null,
      "metadata": {
        "id": "jP-ZPKJ1dEdH",
        "outputId": "afe67789-3f62-4e09-f304-67576d46c759"
      },
      "outputs": [
        {
          "data": {
            "text/plain": [
              "False"
            ]
          },
          "execution_count": 65,
          "metadata": {},
          "output_type": "execute_result"
        }
      ],
      "source": [
        "True and False"
      ]
    },
    {
      "cell_type": "code",
      "execution_count": null,
      "metadata": {
        "id": "FvcULxeQdEdI",
        "outputId": "2546f238-3187-4795-ab32-5b1f2fcc0bc1"
      },
      "outputs": [
        {
          "data": {
            "text/plain": [
              "True"
            ]
          },
          "execution_count": 66,
          "metadata": {},
          "output_type": "execute_result"
        }
      ],
      "source": [
        "True or False"
      ]
    },
    {
      "cell_type": "code",
      "execution_count": null,
      "metadata": {
        "id": "WmNdggiGdEdJ",
        "outputId": "57293b49-704b-470c-c80f-fee78f651c3a"
      },
      "outputs": [
        {
          "data": {
            "text/plain": [
              "False"
            ]
          },
          "execution_count": 67,
          "metadata": {},
          "output_type": "execute_result"
        }
      ],
      "source": [
        "False or False"
      ]
    },
    {
      "cell_type": "code",
      "execution_count": null,
      "metadata": {
        "id": "Yg5B_dSZdEdJ",
        "outputId": "31d78993-4201-49f3-e662-83d1903dacd6"
      },
      "outputs": [
        {
          "data": {
            "text/plain": [
              "True"
            ]
          },
          "execution_count": 68,
          "metadata": {},
          "output_type": "execute_result"
        }
      ],
      "source": [
        "\"Python 2\" != \"Python 3\""
      ]
    },
    {
      "cell_type": "code",
      "execution_count": null,
      "metadata": {
        "id": "sUIcgniwdEdK",
        "outputId": "1ffa6cff-53e7-4a6c-8467-03bdc5738715"
      },
      "outputs": [
        {
          "data": {
            "text/plain": [
              "True"
            ]
          },
          "execution_count": 69,
          "metadata": {},
          "output_type": "execute_result"
        }
      ],
      "source": [
        "2 <= 3"
      ]
    },
    {
      "cell_type": "code",
      "execution_count": null,
      "metadata": {
        "id": "Zam-ji38dEdK",
        "outputId": "a3d165b7-e947-4ebb-b252-08f58f8f0cd4"
      },
      "outputs": [
        {
          "data": {
            "text/plain": [
              "True"
            ]
          },
          "execution_count": 57,
          "metadata": {},
          "output_type": "execute_result"
        }
      ],
      "source": [
        "(\"Python 2\" != \"Python 3\") and (2 <= 3)"
      ]
    },
    {
      "cell_type": "code",
      "execution_count": null,
      "metadata": {
        "id": "-PWrrHAXdEdL",
        "outputId": "18540acb-8cb9-470a-97d7-ee5d0174bdcc"
      },
      "outputs": [
        {
          "data": {
            "text/plain": [
              "True"
            ]
          },
          "execution_count": 70,
          "metadata": {},
          "output_type": "execute_result"
        }
      ],
      "source": [
        "True"
      ]
    },
    {
      "cell_type": "code",
      "execution_count": null,
      "metadata": {
        "id": "UIM3FyrcdEdM",
        "outputId": "def1178f-4d4f-415a-fab3-28e1ad79ea8e"
      },
      "outputs": [
        {
          "data": {
            "text/plain": [
              "False"
            ]
          },
          "execution_count": 71,
          "metadata": {},
          "output_type": "execute_result"
        }
      ],
      "source": [
        "not True"
      ]
    },
    {
      "cell_type": "code",
      "execution_count": null,
      "metadata": {
        "id": "AHV4yQkRdEdM",
        "outputId": "aa342fc2-5ac0-4ba9-c83b-f7674577be33"
      },
      "outputs": [
        {
          "data": {
            "text/plain": [
              "True"
            ]
          },
          "execution_count": 72,
          "metadata": {},
          "output_type": "execute_result"
        }
      ],
      "source": [
        "not not True == True"
      ]
    },
    {
      "cell_type": "code",
      "execution_count": null,
      "metadata": {
        "id": "ykLDpviRdEdN"
      },
      "outputs": [],
      "source": []
    },
    {
      "cell_type": "markdown",
      "metadata": {
        "id": "KBXnKb55dEdO"
      },
      "source": [
        "```{note}\n",
        "Python also has [bitwise operators](https://wiki.python.org/moin/BitwiseOperators) like `&` and `|`. Bitwise operators literally compare the bits of two integers. That's beyond the scope of this course but I've included a code snippet below to show you them in action.\n",
        "```"
      ]
    },
    {
      "cell_type": "code",
      "execution_count": null,
      "metadata": {
        "id": "m51tZvoIdEdP",
        "outputId": "64242f69-2551-4ad3-8046-2802cfa88e8f"
      },
      "outputs": [
        {
          "name": "stdout",
          "output_type": "stream",
          "text": [
            "Bit representation of the number 5: 101\n",
            "Bit representation of the number 4: 100\n",
            "                                    ↓↓↓\n",
            "                                    100\n",
            "                                     ↓ \n",
            "                                     4\n"
          ]
        }
      ],
      "source": [
        "print(f\"Bit representation of the number 5: {5:0b}\")\n",
        "print(f\"Bit representation of the number 4: {4:0b}\")\n",
        "print(f\"                                    ↓↓↓\")\n",
        "print(f\"                                    {5 & 4:0b}\")\n",
        "print(f\"                                     ↓ \")\n",
        "print(f\"                                     {5 & 4}\")"
      ]
    },
    {
      "cell_type": "markdown",
      "metadata": {
        "id": "eBeDuofadEdQ"
      },
      "source": [
        "### Casting\n",
        "\n",
        "Sometimes we need to explicitly **cast** a value from one type to another. We can do this using functions like `str()`, `int()`, and `float()`. Python tries to do the conversion, or throws an error if it can't."
      ]
    },
    {
      "cell_type": "code",
      "execution_count": null,
      "metadata": {
        "id": "lDI3_zMtdEdQ"
      },
      "outputs": [],
      "source": [
        "print()\n",
        "type()"
      ]
    },
    {
      "cell_type": "code",
      "execution_count": null,
      "metadata": {
        "id": "NGLt1UXEdEdR",
        "outputId": "844862b4-16da-4bb3-a45a-73ceef64e2bd"
      },
      "outputs": [
        {
          "data": {
            "text/plain": [
              "float"
            ]
          },
          "execution_count": 74,
          "metadata": {},
          "output_type": "execute_result"
        }
      ],
      "source": [
        "x = 5.5\n",
        "type(x)"
      ]
    },
    {
      "cell_type": "code",
      "execution_count": null,
      "metadata": {
        "id": "qlMIBmLLdEdR",
        "outputId": "af5f4863-9b2a-469a-d6bf-0aa41d257f9f"
      },
      "outputs": [
        {
          "data": {
            "text/plain": [
              "float"
            ]
          },
          "execution_count": 62,
          "metadata": {},
          "output_type": "execute_result"
        }
      ],
      "source": [
        "x = 5.0\n",
        "type(x)"
      ]
    },
    {
      "cell_type": "code",
      "execution_count": null,
      "metadata": {
        "id": "nqEm3TendEdS",
        "outputId": "4e82f65e-cfb6-46e9-8d46-8e24d544cf9f"
      },
      "outputs": [
        {
          "name": "stdout",
          "output_type": "stream",
          "text": [
            "5\n"
          ]
        }
      ],
      "source": [
        "x = int(5.5)\n",
        "type(x)\n",
        "print(x)"
      ]
    },
    {
      "cell_type": "code",
      "execution_count": null,
      "metadata": {
        "id": "lwiCuBUYdEdT",
        "outputId": "9f951814-8637-4139-d6e4-6d6203a32b0d"
      },
      "outputs": [
        {
          "data": {
            "text/plain": [
              "5"
            ]
          },
          "execution_count": 63,
          "metadata": {},
          "output_type": "execute_result"
        }
      ],
      "source": [
        "x = int(5.0)\n",
        "x"
      ]
    },
    {
      "cell_type": "code",
      "execution_count": null,
      "metadata": {
        "id": "e9F-50XJdEdT",
        "outputId": "b38ea5b0-7377-4560-b20f-bc0398593ead"
      },
      "outputs": [
        {
          "data": {
            "text/plain": [
              "int"
            ]
          },
          "execution_count": 64,
          "metadata": {},
          "output_type": "execute_result"
        }
      ],
      "source": [
        "type(x)"
      ]
    },
    {
      "cell_type": "code",
      "execution_count": null,
      "metadata": {
        "id": "NYiXtl5LdEdU",
        "outputId": "2ae3fe18-5a93-4c0a-9228-2c8e63562f70"
      },
      "outputs": [
        {
          "data": {
            "text/plain": [
              "'5.0'"
            ]
          },
          "execution_count": 65,
          "metadata": {},
          "output_type": "execute_result"
        }
      ],
      "source": [
        "x = str(5.0)\n",
        "x"
      ]
    },
    {
      "cell_type": "code",
      "execution_count": null,
      "metadata": {
        "id": "5clFHpa8dEdV",
        "outputId": "f56a6b89-fd82-49ea-dd6e-ff21a7903866"
      },
      "outputs": [
        {
          "data": {
            "text/plain": [
              "str"
            ]
          },
          "execution_count": 66,
          "metadata": {},
          "output_type": "execute_result"
        }
      ],
      "source": [
        "type(x)"
      ]
    },
    {
      "cell_type": "code",
      "execution_count": null,
      "metadata": {
        "id": "0trJ2wRWdEdV",
        "outputId": "a04cc910-93dd-478f-9baa-1130d6540b61"
      },
      "outputs": [
        {
          "data": {
            "text/plain": [
              "False"
            ]
          },
          "execution_count": 67,
          "metadata": {},
          "output_type": "execute_result"
        }
      ],
      "source": [
        "str(5.0) == 5.0"
      ]
    },
    {
      "cell_type": "code",
      "execution_count": null,
      "metadata": {
        "id": "xB3tc2n3dEdW",
        "outputId": "e1a0c24b-3761-458d-e80c-eccfec2b4e1d"
      },
      "outputs": [
        {
          "data": {
            "text/plain": [
              "5"
            ]
          },
          "execution_count": 68,
          "metadata": {},
          "output_type": "execute_result"
        }
      ],
      "source": [
        "int(5.3)"
      ]
    },
    {
      "cell_type": "code",
      "execution_count": null,
      "metadata": {
        "tags": [
          "raises-exception"
        ],
        "id": "_70dJg7ddEdW",
        "outputId": "64f93f4c-b6be-45f6-dab8-4750a65aa0f1"
      },
      "outputs": [
        {
          "ename": "ValueError",
          "evalue": "could not convert string to float: 'hello'",
          "output_type": "error",
          "traceback": [
            "\u001b[0;31m---------------------------------------------------------------------------\u001b[0m",
            "\u001b[0;31mValueError\u001b[0m                                Traceback (most recent call last)",
            "\u001b[0;32m<ipython-input-69-7124e8e12e61>\u001b[0m in \u001b[0;36m<module>\u001b[0;34m\u001b[0m\n\u001b[0;32m----> 1\u001b[0;31m \u001b[0mfloat\u001b[0m\u001b[0;34m(\u001b[0m\u001b[0;34m\"hello\"\u001b[0m\u001b[0;34m)\u001b[0m\u001b[0;34m\u001b[0m\u001b[0;34m\u001b[0m\u001b[0m\n\u001b[0m",
            "\u001b[0;31mValueError\u001b[0m: could not convert string to float: 'hello'"
          ]
        }
      ],
      "source": [
        "float(\"hello\")"
      ]
    },
    {
      "cell_type": "markdown",
      "metadata": {
        "id": "QrCAoCKjdEdX"
      },
      "source": [
        "- int to float() and str()\n",
        "- float to int() and Str()\n",
        "1. but\n",
        "- we cant convert string into int () or float ()\n",
        " "
      ]
    },
    {
      "cell_type": "code",
      "execution_count": null,
      "metadata": {
        "id": "-_tWxQ1BdEdX",
        "outputId": "339ff8fc-f606-4f09-8722-6ab2a2771142"
      },
      "outputs": [
        {
          "data": {
            "text/plain": [
              "'ErumAfzal'"
            ]
          },
          "execution_count": 77,
          "metadata": {},
          "output_type": "execute_result"
        }
      ],
      "source": [
        "first = \"Erum\"\n",
        "last = \"Afzal\"\n",
        "\n",
        "first + last "
      ]
    },
    {
      "cell_type": "code",
      "execution_count": null,
      "metadata": {
        "id": "V540pzandEdY",
        "outputId": "ef8b47b6-51b3-4f54-e668-1e2a159aacc1"
      },
      "outputs": [
        {
          "data": {
            "text/plain": [
              "'24'"
            ]
          },
          "execution_count": 79,
          "metadata": {},
          "output_type": "execute_result"
        }
      ],
      "source": [
        "n1 = str(2)\n",
        "n2 = str(4)\n",
        "n1 + n2 "
      ]
    },
    {
      "cell_type": "markdown",
      "metadata": {
        "id": "CjT24EKUdEdZ"
      },
      "source": [
        "## 3. Lists and Tuples\n",
        "<hr>"
      ]
    },
    {
      "cell_type": "code",
      "source": [],
      "metadata": {
        "id": "2KJxxexKsTjq"
      },
      "execution_count": null,
      "outputs": []
    },
    {
      "cell_type": "markdown",
      "metadata": {
        "id": "roY5ynAJdEdZ"
      },
      "source": [
        "Lists and tuples allow us to store multiple things (\"elements\") in a single object. The elements are _ordered_ (we'll explore what that means a little later). We'll start with lists. Lists are defined with square brackets `[]`."
      ]
    },
    {
      "cell_type": "code",
      "execution_count": null,
      "metadata": {
        "id": "uqsbnikYdEda",
        "outputId": "6276e48f-ee76-4de4-8e98-3434ed53114a"
      },
      "outputs": [
        {
          "name": "stdout",
          "output_type": "stream",
          "text": [
            "[2, 3, 'erum', 7.0, 0, True]\n"
          ]
        },
        {
          "data": {
            "text/plain": [
              "6"
            ]
          },
          "execution_count": 89,
          "metadata": {},
          "output_type": "execute_result"
        }
      ],
      "source": [
        "x = [2,3,\"erum\",7.0,0,True]\n",
        "type(x)\n",
        "print(x)\n",
        "len(x)"
      ]
    },
    {
      "cell_type": "code",
      "execution_count": null,
      "metadata": {
        "id": "jisf0YkkdEda"
      },
      "outputs": [],
      "source": [
        "my_list = [1, 2, \"THREE\", 4, 0.5]"
      ]
    },
    {
      "cell_type": "code",
      "execution_count": null,
      "metadata": {
        "id": "fs4cG4WXdEdb",
        "outputId": "193c7df8-5dfd-4433-9978-1d7153a93374"
      },
      "outputs": [
        {
          "data": {
            "text/plain": [
              "[1, 2, 'THREE', 4, 0.5]"
            ]
          },
          "execution_count": 90,
          "metadata": {},
          "output_type": "execute_result"
        }
      ],
      "source": [
        "my_list"
      ]
    },
    {
      "cell_type": "code",
      "execution_count": null,
      "metadata": {
        "id": "MIy17HFudEdb",
        "outputId": "71220807-c9f9-478e-e504-f4e74cdd9e39"
      },
      "outputs": [
        {
          "data": {
            "text/plain": [
              "5"
            ]
          },
          "execution_count": 92,
          "metadata": {},
          "output_type": "execute_result"
        }
      ],
      "source": [
        "type(my_list)\n",
        "len(my_list)"
      ]
    },
    {
      "cell_type": "code",
      "execution_count": null,
      "metadata": {
        "id": "n879wFaadEdc",
        "outputId": "2a4d10ac-6e25-4380-c72b-cb622c26cbc4"
      },
      "outputs": [
        {
          "name": "stdout",
          "output_type": "stream",
          "text": [
            "[['Name', 'Price', 'Type', 'sale'], ['Mobile', 900, 'Telecom', 50]]\n"
          ]
        },
        {
          "data": {
            "text/plain": [
              "2"
            ]
          },
          "execution_count": 88,
          "metadata": {},
          "output_type": "execute_result"
        }
      ],
      "source": [
        "data = [[\"Name\", \"Price\", \"Type\", \"sale\"],[\"Mobile\", 900, \"Telecom\", 50]]\n",
        "print(data)\n",
        "len(data)\n"
      ]
    },
    {
      "cell_type": "markdown",
      "metadata": {
        "id": "2_o05qUtdEdc"
      },
      "source": [
        "- Mutliple values (same datatype, different )\n",
        "- List within list as well"
      ]
    },
    {
      "cell_type": "markdown",
      "metadata": {
        "id": "EI9qb2CIdEdd"
      },
      "source": [
        "Lists can hold any datatype - even other lists!"
      ]
    },
    {
      "cell_type": "code",
      "execution_count": null,
      "metadata": {
        "id": "D6qHqNyFdEdd",
        "outputId": "e76125cf-1bfc-42ec-d5c1-745533de3063"
      },
      "outputs": [
        {
          "data": {
            "text/plain": [
              "[1, 'two', [3, 4, 'five'], True, None, {'key': 'value'}]"
            ]
          },
          "execution_count": 93,
          "metadata": {},
          "output_type": "execute_result"
        }
      ],
      "source": [
        "another_list = [1, \"two\", [3, 4, \"five\"], True, None, {\"key\": \"value\"}]\n",
        "another_list"
      ]
    },
    {
      "cell_type": "markdown",
      "metadata": {
        "id": "it0QMr4udEde"
      },
      "source": [
        "You can get the length of the list with the function `len()`:"
      ]
    },
    {
      "cell_type": "code",
      "execution_count": null,
      "metadata": {
        "id": "qo--fcSLdEde",
        "outputId": "062ccbf4-1d88-46fb-f2ec-aa4af0d4b432"
      },
      "outputs": [
        {
          "data": {
            "text/plain": [
              "5"
            ]
          },
          "execution_count": 94,
          "metadata": {},
          "output_type": "execute_result"
        }
      ],
      "source": [
        "len(my_list)"
      ]
    },
    {
      "cell_type": "code",
      "execution_count": null,
      "metadata": {
        "id": "Ey2DaIIDdEdf",
        "outputId": "e7214053-738b-4a49-dfee-88f3abb2a6d9"
      },
      "outputs": [
        {
          "name": "stdout",
          "output_type": "stream",
          "text": [
            "(1, 2, 'THREE', 4, 0.5)\n"
          ]
        }
      ],
      "source": [
        "y = (1, 2, \"THREE\", 4, 0.5)\n",
        "type(y)\n",
        "print(y)"
      ]
    },
    {
      "cell_type": "markdown",
      "metadata": {
        "id": "oaVre5ygdEdf"
      },
      "source": [
        "Tuples look similar to lists but have a key difference (they are immutable - but more on that a bit later). They are defined with parentheses `()`."
      ]
    },
    {
      "cell_type": "code",
      "execution_count": null,
      "metadata": {
        "id": "4X7AtEqbdEdg"
      },
      "outputs": [],
      "source": [
        "today = (1, 2, \"THREE\", 4, 0.5)"
      ]
    },
    {
      "cell_type": "code",
      "execution_count": null,
      "metadata": {
        "id": "nOeFuK4cdEdg",
        "outputId": "bf45290c-9db2-4def-b071-0c32277fdd52"
      },
      "outputs": [
        {
          "data": {
            "text/plain": [
              "(1, 2, 'THREE', 4, 0.5)"
            ]
          },
          "execution_count": 99,
          "metadata": {},
          "output_type": "execute_result"
        }
      ],
      "source": [
        "today"
      ]
    },
    {
      "cell_type": "code",
      "execution_count": null,
      "metadata": {
        "id": "MxRm7fG2dEdh",
        "outputId": "d45eace3-5cd8-4f73-9cb9-812187e8ba26"
      },
      "outputs": [
        {
          "data": {
            "text/plain": [
              "tuple"
            ]
          },
          "execution_count": 100,
          "metadata": {},
          "output_type": "execute_result"
        }
      ],
      "source": [
        "type(today)"
      ]
    },
    {
      "cell_type": "code",
      "execution_count": null,
      "metadata": {
        "id": "i8zPr0ZGdEdh",
        "outputId": "d987bd8b-0bca-4280-eed2-3226b97f8d14"
      },
      "outputs": [
        {
          "data": {
            "text/plain": [
              "5"
            ]
          },
          "execution_count": 101,
          "metadata": {},
          "output_type": "execute_result"
        }
      ],
      "source": [
        "len(today)"
      ]
    },
    {
      "cell_type": "markdown",
      "metadata": {
        "id": "nhEs-7FldEdi"
      },
      "source": [
        "### Indexing and Slicing Sequences\n",
        "\n",
        "We can access values inside a list, tuple, or string using square bracket syntax. Python uses *zero-based indexing*, which means the first element of the list is in position 0, not position 1."
      ]
    },
    {
      "cell_type": "code",
      "execution_count": null,
      "metadata": {
        "id": "kNQiZtGzdEdj",
        "outputId": "e0efc072-0a85-47b6-82c3-df244c7bc1ec"
      },
      "outputs": [
        {
          "data": {
            "text/plain": [
              "[1, 2, 'THREE', 4, 0.5]"
            ]
          },
          "execution_count": 103,
          "metadata": {},
          "output_type": "execute_result"
        }
      ],
      "source": [
        "my_list"
      ]
    },
    {
      "cell_type": "code",
      "execution_count": null,
      "metadata": {
        "id": "giRpu2aXdEdk",
        "outputId": "7ca06b0c-8133-4d38-d853-27d4a1a67d80"
      },
      "outputs": [
        {
          "data": {
            "text/plain": [
              "'THREE'"
            ]
          },
          "execution_count": 104,
          "metadata": {},
          "output_type": "execute_result"
        }
      ],
      "source": [
        "my_list[2]"
      ]
    },
    {
      "cell_type": "code",
      "execution_count": null,
      "metadata": {
        "id": "YMZ4RcZGdEdk",
        "outputId": "68b51a3d-760c-4c0f-b711-21aeeacc6545"
      },
      "outputs": [
        {
          "data": {
            "text/plain": [
              "'THREE'"
            ]
          },
          "execution_count": 82,
          "metadata": {},
          "output_type": "execute_result"
        }
      ],
      "source": [
        "my_list[2]"
      ]
    },
    {
      "cell_type": "code",
      "execution_count": null,
      "metadata": {
        "id": "raD7TU8QdEdl",
        "outputId": "884a59ad-5d90-4c4c-be25-a32d774fb297"
      },
      "outputs": [
        {
          "data": {
            "text/plain": [
              "5"
            ]
          },
          "execution_count": 83,
          "metadata": {},
          "output_type": "execute_result"
        }
      ],
      "source": [
        "len(my_list)"
      ]
    },
    {
      "cell_type": "code",
      "execution_count": null,
      "metadata": {
        "tags": [
          "raises-exception"
        ],
        "id": "kRQ7y80WdEdm",
        "outputId": "8b9c7ad1-84ea-4739-a370-3ee621777e62"
      },
      "outputs": [
        {
          "data": {
            "text/plain": [
              "0.5"
            ]
          },
          "execution_count": 105,
          "metadata": {},
          "output_type": "execute_result"
        }
      ],
      "source": [
        "my_list[4]"
      ]
    },
    {
      "cell_type": "markdown",
      "metadata": {
        "id": "8JrzWcREdEdm"
      },
      "source": [
        "We can use negative indices to count backwards from the end of the list."
      ]
    },
    {
      "cell_type": "code",
      "execution_count": null,
      "metadata": {
        "id": "bkbgE9khdEdn",
        "outputId": "88eccad6-c061-4927-ac41-f32e48fff04e"
      },
      "outputs": [
        {
          "data": {
            "text/plain": [
              "[1, 2, 'THREE', 4, 0.5]"
            ]
          },
          "execution_count": 85,
          "metadata": {},
          "output_type": "execute_result"
        }
      ],
      "source": [
        "my_list"
      ]
    },
    {
      "cell_type": "code",
      "execution_count": null,
      "metadata": {
        "id": "A6cGw7UxdEdn",
        "outputId": "177df6cc-ebf0-42e6-8d00-674ca9786d15"
      },
      "outputs": [
        {
          "data": {
            "text/plain": [
              "0.5"
            ]
          },
          "execution_count": 86,
          "metadata": {},
          "output_type": "execute_result"
        }
      ],
      "source": [
        "my_list[-1]"
      ]
    },
    {
      "cell_type": "code",
      "execution_count": null,
      "metadata": {
        "id": "9uq76MD4dEdo",
        "outputId": "641e14bf-dbf3-4d8a-a6dd-c3819296c628"
      },
      "outputs": [
        {
          "data": {
            "text/plain": [
              "4"
            ]
          },
          "execution_count": 87,
          "metadata": {},
          "output_type": "execute_result"
        }
      ],
      "source": [
        "my_list[-2]"
      ]
    },
    {
      "cell_type": "markdown",
      "metadata": {
        "id": "gom-WL6odEdo"
      },
      "source": [
        "We can use the colon `:` to access a sub-sequence. This is called \"slicing\"."
      ]
    },
    {
      "cell_type": "markdown",
      "metadata": {
        "id": "fwWxTPAtdEdp"
      },
      "source": [
        "- index  0,n-1\n",
        "- 1:3(n+1)"
      ]
    },
    {
      "cell_type": "code",
      "execution_count": null,
      "metadata": {
        "id": "20PquNCMdEdp",
        "outputId": "3d1ebc16-400d-45ca-d5f2-1adc20f10eb4"
      },
      "outputs": [
        {
          "data": {
            "text/plain": [
              "[2, 'THREE', 4]"
            ]
          },
          "execution_count": 107,
          "metadata": {},
          "output_type": "execute_result"
        }
      ],
      "source": [
        "my_list[1:4]"
      ]
    },
    {
      "cell_type": "code",
      "execution_count": null,
      "metadata": {
        "id": "WR_v3E1rdEdq",
        "outputId": "1dd6f329-b5a0-46c1-e920-6cb3fb19b947"
      },
      "outputs": [
        {
          "data": {
            "text/plain": [
              "[1, 2, 'THREE', 4, 0.5]"
            ]
          },
          "execution_count": 114,
          "metadata": {},
          "output_type": "execute_result"
        }
      ],
      "source": [
        "my_list"
      ]
    },
    {
      "cell_type": "code",
      "execution_count": null,
      "metadata": {
        "id": "tT__r7j7dEdq",
        "outputId": "90c917f9-052d-4bdf-b457-f7c0aae71325"
      },
      "outputs": [
        {
          "data": {
            "text/plain": [
              "[2, 'THREE', 4, 0.5]"
            ]
          },
          "execution_count": 113,
          "metadata": {},
          "output_type": "execute_result"
        }
      ],
      "source": [
        "my_list[1:]\n"
      ]
    },
    {
      "cell_type": "code",
      "execution_count": null,
      "metadata": {
        "id": "WAhCvSa1dEdr",
        "outputId": "41649f2c-1117-4848-82e9-716516cae5ae"
      },
      "outputs": [
        {
          "data": {
            "text/plain": [
              "[1, 2, 'THREE']"
            ]
          },
          "execution_count": 115,
          "metadata": {},
          "output_type": "execute_result"
        }
      ],
      "source": [
        "my_list[:3]"
      ]
    },
    {
      "cell_type": "markdown",
      "metadata": {
        "id": "y0xr8kWodEdr"
      },
      "source": [
        "Note from the above that the start of the slice is inclusive and the end is exclusive. So `my_list[1:3]` fetches elements 1 and 2, but not 3."
      ]
    },
    {
      "cell_type": "markdown",
      "metadata": {
        "id": "OtcyYnJwdEds"
      },
      "source": [
        "Strings behave the same as lists and tuples when it comes to indexing and slicing. Remember, we think of them as a *sequence* of characters."
      ]
    },
    {
      "cell_type": "code",
      "execution_count": null,
      "metadata": {
        "id": "DTHunqlPdEds"
      },
      "outputs": [],
      "source": [
        "alphabet = \"abcdefghijklmnopqrstuvwxyz\""
      ]
    },
    {
      "cell_type": "code",
      "execution_count": null,
      "metadata": {
        "id": "BoeHDul1dEdt",
        "outputId": "3e3bcd39-c504-4579-93a1-8c7afa3bee5c"
      },
      "outputs": [
        {
          "data": {
            "text/plain": [
              "'a'"
            ]
          },
          "execution_count": 109,
          "metadata": {},
          "output_type": "execute_result"
        }
      ],
      "source": [
        "alphabet[0]"
      ]
    },
    {
      "cell_type": "code",
      "execution_count": null,
      "metadata": {
        "id": "VdgoABRrdEdt",
        "outputId": "e3cba17f-cd9e-42b8-df01-ff5863d6d558"
      },
      "outputs": [
        {
          "data": {
            "text/plain": [
              "'z'"
            ]
          },
          "execution_count": 110,
          "metadata": {},
          "output_type": "execute_result"
        }
      ],
      "source": [
        "alphabet[-1]"
      ]
    },
    {
      "cell_type": "code",
      "execution_count": null,
      "metadata": {
        "id": "ZjDYuxIudEdu",
        "outputId": "c4fc195a-dfcc-4d18-8e7d-2072dce0bec2"
      },
      "outputs": [
        {
          "data": {
            "text/plain": [
              "'x'"
            ]
          },
          "execution_count": 111,
          "metadata": {},
          "output_type": "execute_result"
        }
      ],
      "source": [
        "alphabet[-3]"
      ]
    },
    {
      "cell_type": "code",
      "execution_count": null,
      "metadata": {
        "id": "QI5RZGy3dEdv",
        "outputId": "149a3e48-617c-4069-a5d0-f081f5e2c8bf"
      },
      "outputs": [
        {
          "data": {
            "text/plain": [
              "'abcde'"
            ]
          },
          "execution_count": 93,
          "metadata": {},
          "output_type": "execute_result"
        }
      ],
      "source": [
        "alphabet[:5]"
      ]
    },
    {
      "cell_type": "code",
      "execution_count": null,
      "metadata": {
        "id": "zHdrTrtUdEdv",
        "outputId": "0b08f475-921f-48ae-e4ac-e7cdec747a59"
      },
      "outputs": [
        {
          "data": {
            "text/plain": [
              "'mnopqrst'"
            ]
          },
          "execution_count": 94,
          "metadata": {},
          "output_type": "execute_result"
        }
      ],
      "source": [
        "alphabet[12:20]"
      ]
    },
    {
      "cell_type": "markdown",
      "metadata": {
        "id": "TMSZ1t5HdEdw"
      },
      "source": [
        "### List Methods\n",
        "\n",
        "A list is an object and it has methods for interacting with its data. A method is like a function, it performs some operation with the data, but a method differs to a function in that it is defined on the object itself and accessed using a period `.`. For example, `my_list.append(item)` appends an item to the end of the list called `my_list`. You can see the documentation for more [list methods](https://docs.python.org/3/tutorial/datastructures.html#more-on-lists)."
      ]
    },
    {
      "cell_type": "code",
      "execution_count": null,
      "metadata": {
        "id": "QZ-68DsTdEdw",
        "outputId": "42d032ea-e4ab-46c2-eaf4-90c9c063f82b"
      },
      "outputs": [
        {
          "data": {
            "text/plain": [
              "[2, 3, 5, 7, 11]"
            ]
          },
          "execution_count": 116,
          "metadata": {},
          "output_type": "execute_result"
        }
      ],
      "source": [
        "primes = [2, 3, 5, 7, 11]\n",
        "primes"
      ]
    },
    {
      "cell_type": "code",
      "execution_count": null,
      "metadata": {
        "id": "8n53XE-YdEdx",
        "outputId": "f9a938da-9f09-4fe2-ffba-6f3e88d265d2"
      },
      "outputs": [
        {
          "data": {
            "text/plain": [
              "5"
            ]
          },
          "execution_count": 117,
          "metadata": {},
          "output_type": "execute_result"
        }
      ],
      "source": [
        "len(primes)"
      ]
    },
    {
      "cell_type": "code",
      "execution_count": null,
      "metadata": {
        "id": "WfvEiKpKdEdy"
      },
      "outputs": [],
      "source": [
        "primes.append(13)"
      ]
    },
    {
      "cell_type": "code",
      "execution_count": null,
      "metadata": {
        "id": "R12ZnAhedEdy",
        "outputId": "712869ed-747e-4559-8136-3deb417bca83"
      },
      "outputs": [
        {
          "data": {
            "text/plain": [
              "[2, 3, 5, 7, 11, 13]"
            ]
          },
          "execution_count": 119,
          "metadata": {},
          "output_type": "execute_result"
        }
      ],
      "source": [
        "primes"
      ]
    },
    {
      "cell_type": "code",
      "execution_count": null,
      "metadata": {
        "id": "Cq6XAEyRdEdy",
        "outputId": "fc68dd1a-6d31-42b6-83f4-9ed510536093"
      },
      "outputs": [
        {
          "data": {
            "text/plain": [
              "[2, 3, 5, 7, 11, 13, 17, 17]"
            ]
          },
          "execution_count": 122,
          "metadata": {},
          "output_type": "execute_result"
        }
      ],
      "source": [
        "primes.append(17)\n",
        "primes"
      ]
    },
    {
      "cell_type": "markdown",
      "metadata": {
        "id": "RDSMEjZxdEdz"
      },
      "source": [
        "### Sets\n",
        "\n",
        "Another built-in Python data type is the `set`, which stores an _un-ordered_ list of _unique_ items. Being unordered, sets do not record element position or order of insertion and so do not support indexing."
      ]
    },
    {
      "cell_type": "code",
      "execution_count": null,
      "metadata": {
        "id": "EktGNqNkdEd0",
        "outputId": "0c8eb1c5-23f8-4063-f842-3ba558e77a77"
      },
      "outputs": [
        {
          "data": {
            "text/plain": [
              "{2, 3, 5, 11}"
            ]
          },
          "execution_count": 105,
          "metadata": {},
          "output_type": "execute_result"
        }
      ],
      "source": [
        "s = {2, 3, 5, 11}\n",
        "s"
      ]
    },
    {
      "cell_type": "code",
      "execution_count": null,
      "metadata": {
        "id": "cc1d1D2bdEd1",
        "outputId": "909b0fa2-dc52-43a4-cb0b-28296ccb685f"
      },
      "outputs": [
        {
          "data": {
            "text/plain": [
              "True"
            ]
          },
          "execution_count": 123,
          "metadata": {},
          "output_type": "execute_result"
        }
      ],
      "source": [
        "{1, 2, 3} == {3, 2, 1}"
      ]
    },
    {
      "cell_type": "code",
      "execution_count": null,
      "metadata": {
        "id": "QEMATa0VdEd1",
        "outputId": "eb834135-069e-4459-dfa2-6b074d2f2b5a"
      },
      "outputs": [
        {
          "data": {
            "text/plain": [
              "False"
            ]
          },
          "execution_count": 124,
          "metadata": {},
          "output_type": "execute_result"
        }
      ],
      "source": [
        "[1, 2, 3] == [3, 2, 1]"
      ]
    },
    {
      "cell_type": "code",
      "execution_count": null,
      "metadata": {
        "id": "RtBYI_CndEd2",
        "outputId": "1eda5b23-3eda-4f13-c811-5a80e052e4b5"
      },
      "outputs": [
        {
          "data": {
            "text/plain": [
              "{2, 3, 5, 11}"
            ]
          },
          "execution_count": 108,
          "metadata": {},
          "output_type": "execute_result"
        }
      ],
      "source": [
        "s.add(2)  # does nothing\n",
        "s"
      ]
    },
    {
      "cell_type": "code",
      "execution_count": null,
      "metadata": {
        "tags": [
          "raises-exception"
        ],
        "id": "ZE-bdKxudEd3",
        "outputId": "1cc0286d-85f5-4ee6-e4e4-33a6f3770fa5"
      },
      "outputs": [
        {
          "ename": "TypeError",
          "evalue": "'set' object is not subscriptable",
          "output_type": "error",
          "traceback": [
            "\u001b[0;31m---------------------------------------------------------------------------\u001b[0m",
            "\u001b[0;31mTypeError\u001b[0m                                 Traceback (most recent call last)",
            "\u001b[0;32m<ipython-input-109-c9c96910e542>\u001b[0m in \u001b[0;36m<module>\u001b[0;34m\u001b[0m\n\u001b[0;32m----> 1\u001b[0;31m \u001b[0ms\u001b[0m\u001b[0;34m[\u001b[0m\u001b[0;36m0\u001b[0m\u001b[0;34m]\u001b[0m\u001b[0;34m\u001b[0m\u001b[0;34m\u001b[0m\u001b[0m\n\u001b[0m",
            "\u001b[0;31mTypeError\u001b[0m: 'set' object is not subscriptable"
          ]
        }
      ],
      "source": [
        "s[0]"
      ]
    },
    {
      "cell_type": "markdown",
      "metadata": {
        "id": "uoXDO2F2dEd3"
      },
      "source": [
        "Above: throws an error because elements are not ordered and can't be indexing."
      ]
    },
    {
      "cell_type": "markdown",
      "metadata": {
        "id": "n_5nMhw-dEd4"
      },
      "source": [
        "### Mutable vs. Immutable Types\n",
        "\n",
        "Strings and tuples are immutable types which means they can't be modified. Lists are mutable and we can assign new values for its various entries. This is the main difference between lists and tuples."
      ]
    },
    {
      "cell_type": "code",
      "execution_count": null,
      "metadata": {
        "id": "xxeA9GFudEd4",
        "outputId": "60ff0dd7-6bcb-4900-c565-08e6ffb97acf"
      },
      "outputs": [
        {
          "data": {
            "text/plain": [
              "['Indiana', 'Fang', 'Linsey']"
            ]
          },
          "execution_count": 125,
          "metadata": {},
          "output_type": "execute_result"
        }
      ],
      "source": [
        "names_list = [\"Indiana\", \"Fang\", \"Linsey\"]\n",
        "names_list"
      ]
    },
    {
      "cell_type": "code",
      "execution_count": null,
      "metadata": {
        "id": "V_vkI2mpdEd5",
        "outputId": "285558f1-50b6-426f-ef8e-4ca8565eb01b"
      },
      "outputs": [
        {
          "data": {
            "text/plain": [
              "['Lahore', 'Fang', 'Linsey']"
            ]
          },
          "execution_count": 126,
          "metadata": {},
          "output_type": "execute_result"
        }
      ],
      "source": [
        "names_list[0] = \"Lahore\"\n",
        "names_list"
      ]
    },
    {
      "cell_type": "code",
      "execution_count": null,
      "metadata": {
        "id": "D97_K1EddEd5",
        "outputId": "5f2cdafb-04f4-445f-db6a-cb9a87d8342e"
      },
      "outputs": [
        {
          "data": {
            "text/plain": [
              "('Indiana', 'Fang', 'Linsey')"
            ]
          },
          "execution_count": 127,
          "metadata": {},
          "output_type": "execute_result"
        }
      ],
      "source": [
        "names_tuple = (\"Indiana\", \"Fang\", \"Linsey\")\n",
        "names_tuple"
      ]
    },
    {
      "cell_type": "code",
      "execution_count": null,
      "metadata": {
        "tags": [
          "raises-exception"
        ],
        "id": "BiRqQkTwdEd6",
        "outputId": "0a7fc732-81d8-4b77-ecd4-908d4e33e090"
      },
      "outputs": [
        {
          "ename": "TypeError",
          "evalue": "'tuple' object does not support item assignment",
          "output_type": "error",
          "traceback": [
            "\u001b[0;31m---------------------------------------------------------------------------\u001b[0m",
            "\u001b[0;31mTypeError\u001b[0m                                 Traceback (most recent call last)",
            "\u001b[0;32m/var/folders/dp/0dddlf7j5kx8_cy9js6q9pnr0000gn/T/ipykernel_95826/1708722778.py\u001b[0m in \u001b[0;36m<module>\u001b[0;34m\u001b[0m\n\u001b[0;32m----> 1\u001b[0;31m \u001b[0mnames_tuple\u001b[0m\u001b[0;34m[\u001b[0m\u001b[0;36m0\u001b[0m\u001b[0;34m]\u001b[0m \u001b[0;34m=\u001b[0m \u001b[0;34m\"Lahore\"\u001b[0m\u001b[0;34m\u001b[0m\u001b[0;34m\u001b[0m\u001b[0m\n\u001b[0m",
            "\u001b[0;31mTypeError\u001b[0m: 'tuple' object does not support item assignment"
          ]
        }
      ],
      "source": [
        "names_tuple[0] = \"Lahore\""
      ]
    },
    {
      "cell_type": "markdown",
      "metadata": {
        "id": "GoVu5iOHdEd6"
      },
      "source": [
        "Same goes for strings. Once defined we cannot modifiy the characters of the string."
      ]
    },
    {
      "cell_type": "code",
      "execution_count": null,
      "metadata": {
        "id": "jDT0z3SzdEd7"
      },
      "outputs": [],
      "source": [
        "my_name = \"Tom\""
      ]
    },
    {
      "cell_type": "code",
      "execution_count": null,
      "metadata": {
        "tags": [
          "raises-exception"
        ],
        "id": "TB7J8BZ8dEd7",
        "outputId": "046a74f3-053e-4df5-9a46-be0c3ecb58a0"
      },
      "outputs": [
        {
          "ename": "TypeError",
          "evalue": "'str' object does not support item assignment",
          "output_type": "error",
          "traceback": [
            "\u001b[0;31m---------------------------------------------------------------------------\u001b[0m",
            "\u001b[0;31mTypeError\u001b[0m                                 Traceback (most recent call last)",
            "\u001b[0;32m/var/folders/dp/0dddlf7j5kx8_cy9js6q9pnr0000gn/T/ipykernel_95826/3081615121.py\u001b[0m in \u001b[0;36m<module>\u001b[0;34m\u001b[0m\n\u001b[0;32m----> 1\u001b[0;31m \u001b[0mmy_name\u001b[0m\u001b[0;34m[\u001b[0m\u001b[0;34m-\u001b[0m\u001b[0;36m1\u001b[0m\u001b[0;34m]\u001b[0m \u001b[0;34m=\u001b[0m \u001b[0;34m\"q\"\u001b[0m\u001b[0;34m\u001b[0m\u001b[0;34m\u001b[0m\u001b[0m\n\u001b[0m",
            "\u001b[0;31mTypeError\u001b[0m: 'str' object does not support item assignment"
          ]
        }
      ],
      "source": [
        "my_name[-1] = \"q\""
      ]
    },
    {
      "cell_type": "code",
      "execution_count": null,
      "metadata": {
        "id": "nBuck546dEd7"
      },
      "outputs": [],
      "source": [
        "x = ([1, 2, 3], 5)"
      ]
    },
    {
      "cell_type": "code",
      "execution_count": null,
      "metadata": {
        "tags": [
          "raises-exception"
        ],
        "id": "JswUTv3NdEd8",
        "outputId": "3ca5b45a-c76d-43a2-8f7a-f3fe3ba4526c"
      },
      "outputs": [
        {
          "ename": "TypeError",
          "evalue": "'tuple' object does not support item assignment",
          "output_type": "error",
          "traceback": [
            "\u001b[0;31m---------------------------------------------------------------------------\u001b[0m",
            "\u001b[0;31mTypeError\u001b[0m                                 Traceback (most recent call last)",
            "\u001b[0;32m/var/folders/dp/0dddlf7j5kx8_cy9js6q9pnr0000gn/T/ipykernel_95826/214141108.py\u001b[0m in \u001b[0;36m<module>\u001b[0;34m\u001b[0m\n\u001b[0;32m----> 1\u001b[0;31m \u001b[0mx\u001b[0m\u001b[0;34m[\u001b[0m\u001b[0;36m1\u001b[0m\u001b[0;34m]\u001b[0m \u001b[0;34m=\u001b[0m \u001b[0;36m7\u001b[0m\u001b[0;34m\u001b[0m\u001b[0;34m\u001b[0m\u001b[0m\n\u001b[0m",
            "\u001b[0;31mTypeError\u001b[0m: 'tuple' object does not support item assignment"
          ]
        }
      ],
      "source": [
        "x[1] = 7"
      ]
    },
    {
      "cell_type": "code",
      "execution_count": null,
      "metadata": {
        "id": "VkAZwNtidEd8",
        "outputId": "87ae4275-d776-42db-eca1-de476be54898"
      },
      "outputs": [
        {
          "data": {
            "text/plain": [
              "([1, 2, 3], 5)"
            ]
          },
          "execution_count": 118,
          "metadata": {},
          "output_type": "execute_result"
        }
      ],
      "source": [
        "x"
      ]
    },
    {
      "cell_type": "code",
      "execution_count": null,
      "metadata": {
        "id": "lFksV3-2dEd8"
      },
      "outputs": [],
      "source": [
        "x[0][1] = 4"
      ]
    },
    {
      "cell_type": "code",
      "execution_count": null,
      "metadata": {
        "id": "A5pqrXgFdEd9",
        "outputId": "3c32ed7e-647c-4044-d3a8-90715820e7b7"
      },
      "outputs": [
        {
          "data": {
            "text/plain": [
              "([1, 4, 3], 5)"
            ]
          },
          "execution_count": 117,
          "metadata": {},
          "output_type": "execute_result"
        }
      ],
      "source": [
        "x"
      ]
    },
    {
      "cell_type": "code",
      "execution_count": null,
      "metadata": {
        "id": "2y2ui-5hdEd9",
        "outputId": "aa4feb60-932b-45f1-b4ad-b824697a3e7e"
      },
      "outputs": [
        {
          "name": "stdout",
          "output_type": "stream",
          "text": [
            "[['Name', 'Price', 'Type', 'sale'], ['Mobile', 900, 'Telecom', 50]]\n"
          ]
        },
        {
          "data": {
            "text/plain": [
              "2"
            ]
          },
          "execution_count": 134,
          "metadata": {},
          "output_type": "execute_result"
        }
      ],
      "source": [
        "data = [[\"Name\", \"Price\", \"Type\", \"sale\"],[\"Mobile\", 900, \"Telecom\", 50]]\n",
        "print(data)\n",
        "len(data)"
      ]
    },
    {
      "cell_type": "code",
      "execution_count": null,
      "metadata": {
        "id": "bB3dbBNJdEd-",
        "outputId": "febc163d-5e5a-462d-c1de-aebd513754b9"
      },
      "outputs": [
        {
          "data": {
            "text/plain": [
              "900"
            ]
          },
          "execution_count": 137,
          "metadata": {},
          "output_type": "execute_result"
        }
      ],
      "source": [
        "data[1][1]"
      ]
    },
    {
      "cell_type": "markdown",
      "metadata": {
        "id": "Hff5s47JdEeJ"
      },
      "source": [
        "## 4. String Methods\n",
        "<hr>"
      ]
    },
    {
      "cell_type": "markdown",
      "metadata": {
        "id": "b8PofnLpdEeJ"
      },
      "source": [
        "There are various useful string methods in Python."
      ]
    },
    {
      "cell_type": "code",
      "execution_count": null,
      "metadata": {
        "id": "ON_GI2DZdEeK",
        "outputId": "f3729096-c0a1-4d6f-d9c1-5d619f9978c7"
      },
      "outputs": [
        {
          "data": {
            "text/plain": [
              "'HOW ARE YOU TODAY?'"
            ]
          },
          "execution_count": 139,
          "metadata": {},
          "output_type": "execute_result"
        }
      ],
      "source": [
        "all_caps = \"HOW ARE YOU TODAY?\"\n",
        "all_caps"
      ]
    },
    {
      "cell_type": "code",
      "execution_count": null,
      "metadata": {
        "id": "HlWkF1hMdEeK",
        "outputId": "6c77fe77-f445-474a-cc13-e9bcc88cfd58"
      },
      "outputs": [
        {
          "data": {
            "text/plain": [
              "'how are you today?'"
            ]
          },
          "execution_count": 140,
          "metadata": {},
          "output_type": "execute_result"
        }
      ],
      "source": [
        "new_str = all_caps.lower()\n",
        "new_str"
      ]
    },
    {
      "cell_type": "markdown",
      "metadata": {
        "id": "le6YarVNdEeL"
      },
      "source": [
        "Note that the method lower doesn't change the original string but rather returns a new one."
      ]
    },
    {
      "cell_type": "code",
      "execution_count": null,
      "metadata": {
        "id": "gzfii5TTdEeL",
        "outputId": "ec236381-cc38-428c-faaa-717cd3b5468d"
      },
      "outputs": [
        {
          "data": {
            "text/plain": [
              "'HOW ARE YOU TODAY?'"
            ]
          },
          "execution_count": 141,
          "metadata": {},
          "output_type": "execute_result"
        }
      ],
      "source": [
        "all_caps"
      ]
    },
    {
      "cell_type": "markdown",
      "metadata": {
        "id": "IHftYrdCdEeL"
      },
      "source": [
        "There are *many* string methods. Check out the [documentation](https://docs.python.org/3/library/stdtypes.html#string-methods)."
      ]
    },
    {
      "cell_type": "code",
      "execution_count": null,
      "metadata": {
        "id": "vONKGFZLdEeM",
        "outputId": "b7cf1f65-f563-4468-e834-cfd7de59f364"
      },
      "outputs": [
        {
          "data": {
            "text/plain": [
              "['HOW', 'ARE', 'YOU', 'TODAY?']"
            ]
          },
          "execution_count": 142,
          "metadata": {},
          "output_type": "execute_result"
        }
      ],
      "source": [
        "all_caps.split()"
      ]
    },
    {
      "cell_type": "code",
      "execution_count": null,
      "metadata": {
        "id": "R__lBhg0dEeM",
        "outputId": "828b576f-230f-4d97-8510-40ef18d12905"
      },
      "outputs": [
        {
          "data": {
            "text/plain": [
              "1"
            ]
          },
          "execution_count": 145,
          "metadata": {},
          "output_type": "execute_result"
        }
      ],
      "source": [
        "all_caps.count(\"ARE\")"
      ]
    },
    {
      "cell_type": "markdown",
      "metadata": {
        "id": "1JpYDyLodEeM"
      },
      "source": [
        "One can explicitly cast a string to a list:"
      ]
    },
    {
      "cell_type": "code",
      "execution_count": null,
      "metadata": {
        "id": "_9RI9udIdEeN",
        "outputId": "4bc728f5-cf57-459a-8ef5-47e49a08e9d4"
      },
      "outputs": [
        {
          "data": {
            "text/plain": [
              "['H',\n",
              " 'O',\n",
              " 'W',\n",
              " ' ',\n",
              " 'A',\n",
              " 'R',\n",
              " 'E',\n",
              " ' ',\n",
              " 'Y',\n",
              " 'O',\n",
              " 'U',\n",
              " ' ',\n",
              " 'T',\n",
              " 'O',\n",
              " 'D',\n",
              " 'A',\n",
              " 'Y',\n",
              " '?']"
            ]
          },
          "execution_count": 146,
          "metadata": {},
          "output_type": "execute_result"
        }
      ],
      "source": [
        "caps_list = list(all_caps)\n",
        "caps_list"
      ]
    },
    {
      "cell_type": "code",
      "execution_count": null,
      "metadata": {
        "id": "Ys8raQ0DdEeN",
        "outputId": "c9b1d779-f4c3-4423-925d-5f2618e15fac"
      },
      "outputs": [
        {
          "data": {
            "text/plain": [
              "'HOW ARE YOU TODAY?'"
            ]
          },
          "execution_count": 126,
          "metadata": {},
          "output_type": "execute_result"
        }
      ],
      "source": [
        "\"\".join(caps_list)"
      ]
    },
    {
      "cell_type": "code",
      "execution_count": null,
      "metadata": {
        "id": "T2-UCTBEdEeN",
        "outputId": "6fc18e50-9431-4cdb-921c-179f0e0207bc"
      },
      "outputs": [
        {
          "data": {
            "text/plain": [
              "'H-O-W- -A-R-E- -Y-O-U- -T-O-D-A-Y-?'"
            ]
          },
          "execution_count": 127,
          "metadata": {},
          "output_type": "execute_result"
        }
      ],
      "source": [
        "\"-\".join(caps_list)"
      ]
    },
    {
      "cell_type": "markdown",
      "metadata": {
        "id": "gIUGF-9sdEeO"
      },
      "source": [
        "We can also chain multiple methods together (more on this when we get to NumPy and Pandas in later chapters):"
      ]
    },
    {
      "cell_type": "code",
      "execution_count": null,
      "metadata": {
        "id": "iT5C0jfZdEeO",
        "outputId": "5670e9b7-0af9-4cfc-c773-3544c223b2e5"
      },
      "outputs": [
        {
          "data": {
            "text/plain": [
              "['how', 'are', 'you', 'today?']"
            ]
          },
          "execution_count": 128,
          "metadata": {},
          "output_type": "execute_result"
        }
      ],
      "source": [
        "\"\".join(caps_list).lower().split(\" \")"
      ]
    },
    {
      "cell_type": "markdown",
      "metadata": {
        "id": "jk9lHDoQdEeP"
      },
      "source": [
        "### String formatting\n",
        "\n",
        "Python has ways of creating strings by \"filling in the blanks\" and formatting them nicely. This is helpful for when you want to print statements that include variables or statements. There are a few ways of doing this but I use and recommend [f-strings](https://docs.python.org/3.6/whatsnew/3.6.html#whatsnew36-pep498) which were introduced in Python 3.6. All you need to do is put the letter \"f\" out the front of your string and then you can include variables with curly-bracket notation `{}`."
      ]
    },
    {
      "cell_type": "code",
      "execution_count": null,
      "metadata": {
        "id": "zCu6XBMOdEeP",
        "outputId": "123c203d-02a7-4933-ab2b-c24888bec693"
      },
      "outputs": [
        {
          "name": "stdout",
          "output_type": "stream",
          "text": [
            "Enter you nameErum\n"
          ]
        },
        {
          "data": {
            "text/plain": [
              "'My name is Erum'"
            ]
          },
          "execution_count": 147,
          "metadata": {},
          "output_type": "execute_result"
        }
      ],
      "source": [
        "name = input(\"Enter you name\")\n",
        "f\"My name is {name}\"\n"
      ]
    },
    {
      "cell_type": "code",
      "execution_count": null,
      "metadata": {
        "id": "vbUOKcs7dEeP",
        "outputId": "aafde48a-0a49-4588-c79e-cf29f2d832b9"
      },
      "outputs": [
        {
          "data": {
            "text/plain": [
              "'Hello, my name is Newborn Baby. I am 0.33 years old. I was born 10/06/2021.'"
            ]
          },
          "execution_count": 148,
          "metadata": {},
          "output_type": "execute_result"
        }
      ],
      "source": [
        "name = \"Newborn Baby\"\n",
        "age = 4 / 12\n",
        "day = 10\n",
        "month = 6\n",
        "year = 2021\n",
        "template_new = f\"Hello, my name is {name}. I am {age:.2f} years old. I was born {day}/{month:02}/{year}.\"\n",
        "template_new"
      ]
    },
    {
      "cell_type": "markdown",
      "metadata": {
        "id": "RDSU9hlzdEeQ"
      },
      "source": [
        "```{note} Notes require **no** arguments,\n",
        "In the code above, the notation after the colon in my curly braces is for formatting. For example, `:.2f` means, print this variable with 2 decimal places. See format code options [here](https://docs.python.org/3.4/library/string.html#format-specification-mini-language).\n",
        "```"
      ]
    },
    {
      "cell_type": "markdown",
      "metadata": {
        "id": "yqKZwBIEdEeQ"
      },
      "source": [
        "## 5. Dictionaries\n",
        "<hr>"
      ]
    },
    {
      "cell_type": "markdown",
      "metadata": {
        "id": "Ryf_ZkBtdEeQ"
      },
      "source": [
        "A dictionary is a mapping between key-values pairs and is defined with curly-brackets:"
      ]
    },
    {
      "cell_type": "code",
      "execution_count": null,
      "metadata": {
        "id": "gXo4yKnGdEeQ",
        "outputId": "d6c2e729-19b7-4ee0-da56-b152712c645f",
        "colab": {
          "base_uri": "https://localhost:8080/"
        }
      },
      "outputs": [
        {
          "output_type": "execute_result",
          "data": {
            "text/plain": [
              "{'Address': 'Pakistan', 'Name': 'Erum', 'Registration': 501}"
            ]
          },
          "metadata": {},
          "execution_count": 1
        }
      ],
      "source": [
        "Data = {\"Name\": \"Erum\", \"Registration\": 501, \"Address\": \"Pakistan\"}\n",
        "Data\n"
      ]
    },
    {
      "cell_type": "code",
      "execution_count": null,
      "metadata": {
        "id": "dCzx7tLGdEeR"
      },
      "outputs": [],
      "source": [
        "house = {\n",
        "    \"bedrooms\": 3,\n",
        "    \"bathrooms\": 2,\n",
        "    \"city\": \"Vancouver\",\n",
        "    \"price\": 2499999,\n",
        "    \"date_sold\": (1, 3, 2015),\n",
        "}\n",
        "\n",
        "condo = {\n",
        "    \"bedrooms\": 2,\n",
        "    \"bathrooms\": 1,\n",
        "    \"city\": \"Burnaby\",\n",
        "    \"price\": 699999,\n",
        "    \"date_sold\": (27, 8, 2011),\n",
        "}"
      ]
    },
    {
      "cell_type": "markdown",
      "metadata": {
        "id": "LIwOULEBdEeR"
      },
      "source": [
        "We can access a specific field of a dictionary with square brackets:"
      ]
    },
    {
      "cell_type": "code",
      "execution_count": null,
      "metadata": {
        "id": "CJYo2F_FdEeS",
        "outputId": "b052be14-c263-4d3a-ac1e-dc047a5f9344",
        "colab": {
          "base_uri": "https://localhost:8080/"
        }
      },
      "outputs": [
        {
          "output_type": "execute_result",
          "data": {
            "text/plain": [
              "2499999"
            ]
          },
          "metadata": {},
          "execution_count": 3
        }
      ],
      "source": [
        "house[\"price\"]"
      ]
    },
    {
      "cell_type": "code",
      "execution_count": null,
      "metadata": {
        "id": "xmIHc5OGdEeS",
        "outputId": "0ba92fa6-5fdf-4c28-bbe5-dc5d59279688",
        "colab": {
          "base_uri": "https://localhost:8080/",
          "height": 35
        }
      },
      "outputs": [
        {
          "output_type": "execute_result",
          "data": {
            "application/vnd.google.colaboratory.intrinsic+json": {
              "type": "string"
            },
            "text/plain": [
              "'Burnaby'"
            ]
          },
          "metadata": {},
          "execution_count": 4
        }
      ],
      "source": [
        "condo[\"city\"]"
      ]
    },
    {
      "cell_type": "markdown",
      "metadata": {
        "id": "YPmWeRgndEeS"
      },
      "source": [
        "We can also edit dictionaries (they are mutable):"
      ]
    },
    {
      "cell_type": "code",
      "execution_count": null,
      "metadata": {
        "id": "3DL-_1pCdEeT",
        "outputId": "8802aad3-d474-4914-9ac4-2d704a819314",
        "colab": {
          "base_uri": "https://localhost:8080/"
        }
      },
      "outputs": [
        {
          "output_type": "execute_result",
          "data": {
            "text/plain": [
              "{'bathrooms': 1,\n",
              " 'bedrooms': 2,\n",
              " 'city': 'Burnaby',\n",
              " 'date_sold': (27, 8, 2011),\n",
              " 'price': 5}"
            ]
          },
          "metadata": {},
          "execution_count": 5
        }
      ],
      "source": [
        "condo[\"price\"] = 5  # price already in the dict\n",
        "condo"
      ]
    },
    {
      "cell_type": "code",
      "execution_count": null,
      "metadata": {
        "id": "gaOm553mdEeT"
      },
      "outputs": [],
      "source": [
        "condo[\"flooring\"] = \"wood\""
      ]
    },
    {
      "cell_type": "code",
      "execution_count": null,
      "metadata": {
        "id": "l9vm1szgdEeT",
        "outputId": "bccda69c-1268-4c20-949a-1678fc132f51",
        "colab": {
          "base_uri": "https://localhost:8080/"
        }
      },
      "outputs": [
        {
          "output_type": "execute_result",
          "data": {
            "text/plain": [
              "{'bathrooms': 1,\n",
              " 'bedrooms': 2,\n",
              " 'city': 'Burnaby',\n",
              " 'date_sold': (27, 8, 2011),\n",
              " 'flooring': 'wood',\n",
              " 'price': 5}"
            ]
          },
          "metadata": {},
          "execution_count": 7
        }
      ],
      "source": [
        "condo"
      ]
    },
    {
      "cell_type": "markdown",
      "metadata": {
        "id": "boftpPBEdEeU"
      },
      "source": [
        "We can also delete fields entirely (though I rarely use this):"
      ]
    },
    {
      "cell_type": "code",
      "execution_count": null,
      "metadata": {
        "id": "mhkxeDi5dEeU"
      },
      "outputs": [],
      "source": [
        "del condo[\"city\"]"
      ]
    },
    {
      "cell_type": "code",
      "execution_count": null,
      "metadata": {
        "id": "RpRit0PUdEeU",
        "outputId": "80cfe785-5c1d-4a2e-a92e-ad7c99afc1e8",
        "colab": {
          "base_uri": "https://localhost:8080/"
        }
      },
      "outputs": [
        {
          "output_type": "execute_result",
          "data": {
            "text/plain": [
              "{'bathrooms': 1,\n",
              " 'bedrooms': 2,\n",
              " 'date_sold': (27, 8, 2011),\n",
              " 'flooring': 'wood',\n",
              " 'price': 5}"
            ]
          },
          "metadata": {},
          "execution_count": 9
        }
      ],
      "source": [
        "condo"
      ]
    },
    {
      "cell_type": "markdown",
      "metadata": {
        "id": "Mc-WfmjOdEeV"
      },
      "source": [
        "And we can easily add fields:"
      ]
    },
    {
      "cell_type": "code",
      "execution_count": null,
      "metadata": {
        "id": "_JaocPqKdEeV"
      },
      "outputs": [],
      "source": [
        "condo[5] = 443345"
      ]
    },
    {
      "cell_type": "code",
      "execution_count": null,
      "metadata": {
        "id": "gDzBq767dEeV",
        "outputId": "4d91c78f-2726-4179-885e-a23f1ac6a19a",
        "colab": {
          "base_uri": "https://localhost:8080/"
        }
      },
      "outputs": [
        {
          "output_type": "execute_result",
          "data": {
            "text/plain": [
              "{5: 443345,\n",
              " 'bathrooms': 1,\n",
              " 'bedrooms': 2,\n",
              " 'date_sold': (27, 8, 2011),\n",
              " 'flooring': 'wood',\n",
              " 'price': 5}"
            ]
          },
          "metadata": {},
          "execution_count": 11
        }
      ],
      "source": [
        "condo"
      ]
    },
    {
      "cell_type": "markdown",
      "metadata": {
        "id": "MzRxtkKqdEeW"
      },
      "source": [
        "Keys may be any immutable data type, even a `tuple`!"
      ]
    },
    {
      "cell_type": "code",
      "execution_count": null,
      "metadata": {
        "id": "NJ54lpupdEeW",
        "outputId": "e00232ec-8884-4548-da09-a53e9a344959",
        "colab": {
          "base_uri": "https://localhost:8080/"
        }
      },
      "outputs": [
        {
          "output_type": "execute_result",
          "data": {
            "text/plain": [
              "{(1, 2, 3): 777,\n",
              " 5: 443345,\n",
              " 'bathrooms': 1,\n",
              " 'bedrooms': 2,\n",
              " 'date_sold': (27, 8, 2011),\n",
              " 'flooring': 'wood',\n",
              " 'price': 5}"
            ]
          },
          "metadata": {},
          "execution_count": 12
        }
      ],
      "source": [
        "condo[(1, 2, 3)] = 777\n",
        "condo"
      ]
    },
    {
      "cell_type": "markdown",
      "metadata": {
        "id": "VfUOYstzdEeW"
      },
      "source": [
        "You'll get an error if you try to access a non-existent key:"
      ]
    },
    {
      "cell_type": "code",
      "execution_count": null,
      "metadata": {
        "tags": [
          "raises-exception"
        ],
        "id": "L7AM1t-8dEeW",
        "outputId": "8db0262b-dd6c-4817-f574-6487146a2d69",
        "colab": {
          "base_uri": "https://localhost:8080/",
          "height": 166
        }
      },
      "outputs": [
        {
          "output_type": "error",
          "ename": "KeyError",
          "evalue": "ignored",
          "traceback": [
            "\u001b[0;31m---------------------------------------------------------------------------\u001b[0m",
            "\u001b[0;31mKeyError\u001b[0m                                  Traceback (most recent call last)",
            "\u001b[0;32m<ipython-input-13-ab081f66baa5>\u001b[0m in \u001b[0;36m<module>\u001b[0;34m()\u001b[0m\n\u001b[0;32m----> 1\u001b[0;31m \u001b[0mcondo\u001b[0m\u001b[0;34m[\u001b[0m\u001b[0;34m\"not-here\"\u001b[0m\u001b[0;34m]\u001b[0m\u001b[0;34m\u001b[0m\u001b[0;34m\u001b[0m\u001b[0m\n\u001b[0m",
            "\u001b[0;31mKeyError\u001b[0m: 'not-here'"
          ]
        }
      ],
      "source": [
        "condo[\"not-here\"]"
      ]
    },
    {
      "cell_type": "markdown",
      "metadata": {
        "id": "7_P3iyavdEeX"
      },
      "source": [
        "## 6. Empties"
      ]
    },
    {
      "cell_type": "markdown",
      "metadata": {
        "id": "8neDlAv_dEeX"
      },
      "source": [
        "Sometimes you'll want to create empty objects that will be filled later on."
      ]
    },
    {
      "cell_type": "code",
      "execution_count": null,
      "metadata": {
        "id": "1E1BzDyfdEeY",
        "outputId": "cc1d2c76-0a33-4026-855a-895f73ac277f"
      },
      "outputs": [
        {
          "data": {
            "text/plain": [
              "[]"
            ]
          },
          "execution_count": 144,
          "metadata": {},
          "output_type": "execute_result"
        }
      ],
      "source": [
        "lst = list()  # empty list\n",
        "lst"
      ]
    },
    {
      "cell_type": "code",
      "execution_count": null,
      "metadata": {
        "id": "YpEebuovdEeY",
        "outputId": "ca03b73c-7084-49d2-b7cb-d87912857538"
      },
      "outputs": [
        {
          "data": {
            "text/plain": [
              "[]"
            ]
          },
          "execution_count": 145,
          "metadata": {},
          "output_type": "execute_result"
        }
      ],
      "source": [
        "lst = []  # empty list\n",
        "lst"
      ]
    },
    {
      "cell_type": "markdown",
      "metadata": {
        "id": "89Qqh5TGdEeZ"
      },
      "source": [
        "There's no real difference between the two methods above, `[]` is apparently [marginally faster](https://stackoverflow.com/questions/2972212/creating-an-empty-list-in-python)..."
      ]
    },
    {
      "cell_type": "code",
      "execution_count": null,
      "metadata": {
        "id": "xuaLKKNCdEeZ",
        "outputId": "f679094e-5080-4645-f069-88a9a60d83c0"
      },
      "outputs": [
        {
          "data": {
            "text/plain": [
              "()"
            ]
          },
          "execution_count": 146,
          "metadata": {},
          "output_type": "execute_result"
        }
      ],
      "source": [
        "tup = tuple()  # empty tuple\n",
        "tup"
      ]
    },
    {
      "cell_type": "code",
      "execution_count": null,
      "metadata": {
        "id": "OKcURPFmdEeZ",
        "outputId": "a666d26a-f18d-4f85-e12f-54600f7ea587"
      },
      "outputs": [
        {
          "data": {
            "text/plain": [
              "()"
            ]
          },
          "execution_count": 147,
          "metadata": {},
          "output_type": "execute_result"
        }
      ],
      "source": [
        "tup = ()  # empty tuple\n",
        "tup"
      ]
    },
    {
      "cell_type": "code",
      "execution_count": null,
      "metadata": {
        "id": "j5tjq_k-dEea",
        "outputId": "dce4fee1-e8ef-480d-aeca-18898a76c6cc"
      },
      "outputs": [
        {
          "data": {
            "text/plain": [
              "{}"
            ]
          },
          "execution_count": 148,
          "metadata": {},
          "output_type": "execute_result"
        }
      ],
      "source": [
        "dic = dict()  # empty dict\n",
        "dic"
      ]
    },
    {
      "cell_type": "code",
      "execution_count": null,
      "metadata": {
        "id": "S6KAQnS8dEea",
        "outputId": "03526d65-2832-458f-ad11-e9c38c89e0d8"
      },
      "outputs": [
        {
          "data": {
            "text/plain": [
              "{}"
            ]
          },
          "execution_count": 149,
          "metadata": {},
          "output_type": "execute_result"
        }
      ],
      "source": [
        "dic = {}  # empty dict\n",
        "dic"
      ]
    },
    {
      "cell_type": "code",
      "execution_count": null,
      "metadata": {
        "id": "1qq_dBW0dEea",
        "outputId": "0969b639-bb6a-47fb-bf2d-1fe4efc2e49b"
      },
      "outputs": [
        {
          "data": {
            "text/plain": [
              "set()"
            ]
          },
          "execution_count": 150,
          "metadata": {},
          "output_type": "execute_result"
        }
      ],
      "source": [
        "st = set()  # empty set\n",
        "st"
      ]
    },
    {
      "cell_type": "markdown",
      "metadata": {
        "id": "XIJndabudEeb"
      },
      "source": [
        "## 7. Conditionals\n",
        "<hr>"
      ]
    },
    {
      "cell_type": "markdown",
      "metadata": {
        "id": "4XFYU6oddEeb"
      },
      "source": [
        "[Conditional statements](https://docs.python.org/3/tutorial/controlflow.html) allow us to write programs where only certain blocks of code are executed depending on the state of the program. Let's look at some examples and take note of the keywords, syntax and indentation. "
      ]
    },
    {
      "cell_type": "code",
      "execution_count": null,
      "metadata": {
        "id": "iboPAf4LdEeb",
        "outputId": "8e8b5940-c8a6-441e-a2aa-7f21801fecb1"
      },
      "outputs": [
        {
          "name": "stdout",
          "output_type": "stream",
          "text": [
            "That's my name too!\n",
            "Nice to meet you!\n"
          ]
        }
      ],
      "source": [
        "name = \"Tom\"\n",
        "\n",
        "if name.lower() == \"tom\":\n",
        "    print(\"That's my name too!\")\n",
        "elif name.lower() == \"santa\":\n",
        "    print(\"That's a funny name.\")\n",
        "else:\n",
        "    print(f\"Hello {name}! That's a cool name!\")\n",
        "print(\"Nice to meet you!\")"
      ]
    },
    {
      "cell_type": "markdown",
      "metadata": {
        "id": "t_rvG5sWdEec"
      },
      "source": [
        "The main points to notice:\n",
        "- Use keywords `if`, `elif` and `else`\n",
        "- The colon `:` ends each conditional expression\n",
        "- Indentation (by 4 empty space) defines code blocks\n",
        "- In an `if` statement, the first block whose conditional statement returns `True` is executed and the program exits the `if` block\n",
        "- `if` statements don't necessarily need `elif` or `else`\n",
        "- `elif` lets us check several conditions\n",
        "- `else` lets us evaluate a default block if all other conditions are `False`\n",
        "- the end of the entire `if` statement is where the indentation returns to the same level as the first `if` keyword"
      ]
    },
    {
      "cell_type": "markdown",
      "metadata": {
        "id": "Z-pKseuHdEec"
      },
      "source": [
        "If statements can also be **nested** inside of one another:"
      ]
    },
    {
      "cell_type": "code",
      "execution_count": null,
      "metadata": {
        "id": "P6GzqJ-qdEec",
        "outputId": "6bd0cfde-d064-41b8-8769-f9311aa53bb3"
      },
      "outputs": [
        {
          "name": "stdout",
          "output_type": "stream",
          "text": [
            "Hello Super Tom! That's a cool name.\n",
            "Do you really have superpowers?\n",
            "Nice to meet you!\n"
          ]
        }
      ],
      "source": [
        "name = \"Super Tom\"\n",
        "\n",
        "if name.lower() == \"tom\":\n",
        "    print(\"That's my name too!\")\n",
        "elif name.lower() == \"santa\":\n",
        "    print(\"That's a funny name.\")\n",
        "else:\n",
        "    print(f\"Hello {name}! That's a cool name.\")\n",
        "    if name.lower().startswith(\"super\"):\n",
        "        print(\"Do you really have superpowers?\")\n",
        "\n",
        "print(\"Nice to meet you!\")"
      ]
    },
    {
      "cell_type": "markdown",
      "metadata": {
        "id": "Q05vmBG8dEed"
      },
      "source": [
        "### Inline if/else"
      ]
    },
    {
      "cell_type": "markdown",
      "metadata": {
        "id": "z0dC-9IGdEed"
      },
      "source": [
        "We can write simple `if` statements \"inline\", i.e., in a single line, for simplicity."
      ]
    },
    {
      "cell_type": "code",
      "execution_count": null,
      "metadata": {
        "jupyter": {
          "outputs_hidden": false
        },
        "id": "46dktCwNdEee",
        "outputId": "0707f71a-e4fa-4c0e-eaa6-f386692e6bd6"
      },
      "outputs": [
        {
          "data": {
            "text/plain": [
              "'short list'"
            ]
          },
          "execution_count": 153,
          "metadata": {},
          "output_type": "execute_result"
        }
      ],
      "source": [
        "words = [\"the\", \"list\", \"of\", \"words\"]\n",
        "\n",
        "x = \"long list\" if len(words) > 10 else \"short list\"\n",
        "x"
      ]
    },
    {
      "cell_type": "code",
      "execution_count": null,
      "metadata": {
        "id": "3xjSVAgWdEee"
      },
      "outputs": [],
      "source": [
        "if len(words) > 10:\n",
        "    x = \"long list\"\n",
        "else:\n",
        "    x = \"short list\""
      ]
    },
    {
      "cell_type": "code",
      "execution_count": null,
      "metadata": {
        "id": "LfABDjxbdEee",
        "outputId": "641c275b-5fcb-4e9a-85b9-561fe5e18772"
      },
      "outputs": [
        {
          "data": {
            "text/plain": [
              "'short list'"
            ]
          },
          "execution_count": 155,
          "metadata": {},
          "output_type": "execute_result"
        }
      ],
      "source": [
        "x"
      ]
    },
    {
      "cell_type": "markdown",
      "metadata": {
        "id": "0qwPbWGAdEef"
      },
      "source": [
        "### Truth Value Testing"
      ]
    },
    {
      "cell_type": "markdown",
      "metadata": {
        "id": "rGnGCfn0dEef"
      },
      "source": [
        "Any object can be tested for \"truth\" in Python, for use in `if` and `while` (next chapter) statements.\n",
        "- `True` values: all objects return `True` unless they are a `bool` object with value `False` or have `len()` == 0\n",
        "- `False` values: `None`, `False`, `0`, empty sequences and collections: `''`, `()`, `[]`, `{}`, `set()`\n",
        "\n",
        "```{tip}\n",
        "Read more in the [docs here](https://docs.python.org/3/library/stdtypes.html#truth-value-testing).\n",
        "```"
      ]
    },
    {
      "cell_type": "code",
      "execution_count": null,
      "metadata": {
        "id": "bcTcdIZAdEef",
        "outputId": "a048b86c-6c6d-4982-9ef7-e59c35585356"
      },
      "outputs": [
        {
          "name": "stdout",
          "output_type": "stream",
          "text": [
            "I'm truthy!\n"
          ]
        }
      ],
      "source": [
        "x = 1\n",
        "\n",
        "if x:\n",
        "    print(\"I'm truthy!\")\n",
        "else:\n",
        "    print(\"I'm falsey!\")"
      ]
    },
    {
      "cell_type": "code",
      "execution_count": null,
      "metadata": {
        "id": "Tqh4NFGrdEeg",
        "outputId": "2e1b3130-6fe8-4eb5-9e66-bd522518ad31"
      },
      "outputs": [
        {
          "name": "stdout",
          "output_type": "stream",
          "text": [
            "I'm falsey!\n"
          ]
        }
      ],
      "source": [
        "x = False\n",
        "\n",
        "if x:\n",
        "    print(\"I'm truthy!\")\n",
        "else:\n",
        "    print(\"I'm falsey!\")"
      ]
    },
    {
      "cell_type": "code",
      "execution_count": null,
      "metadata": {
        "id": "YCKDAb04dEeg",
        "outputId": "410623cf-ae2f-4a35-868b-c0303c72f8c4"
      },
      "outputs": [
        {
          "name": "stdout",
          "output_type": "stream",
          "text": [
            "I'm falsey!\n"
          ]
        }
      ],
      "source": [
        "x = []\n",
        "\n",
        "if x:\n",
        "    print(\"I'm truthy!\")\n",
        "else:\n",
        "    print(\"I'm falsey!\")"
      ]
    },
    {
      "cell_type": "markdown",
      "metadata": {
        "id": "mgqQOQskdEeg"
      },
      "source": [
        "### Short-circuiting"
      ]
    },
    {
      "cell_type": "markdown",
      "metadata": {
        "id": "Skw1vGMHdEeh"
      },
      "source": [
        "Python supports a concept known as \"short-circuting\". This is the automatic stopping of the execution of boolean operation if the truth value of expression has already been determined."
      ]
    },
    {
      "cell_type": "code",
      "execution_count": null,
      "metadata": {
        "tags": [
          "raises-exception"
        ],
        "id": "RklwvsO7dEeh",
        "outputId": "50e1a4e6-e906-4824-cad5-45333dd5abb7"
      },
      "outputs": [
        {
          "ename": "NameError",
          "evalue": "name 'fake_variable' is not defined",
          "output_type": "error",
          "traceback": [
            "\u001b[0;31m---------------------------------------------------------------------------\u001b[0m",
            "\u001b[0;31mNameError\u001b[0m                                 Traceback (most recent call last)",
            "\u001b[0;32m<ipython-input-159-38b1451e4717>\u001b[0m in \u001b[0;36m<module>\u001b[0;34m\u001b[0m\n\u001b[0;32m----> 1\u001b[0;31m \u001b[0mfake_variable\u001b[0m  \u001b[0;31m# not defined\u001b[0m\u001b[0;34m\u001b[0m\u001b[0;34m\u001b[0m\u001b[0m\n\u001b[0m",
            "\u001b[0;31mNameError\u001b[0m: name 'fake_variable' is not defined"
          ]
        }
      ],
      "source": [
        "fake_variable  # not defined"
      ]
    },
    {
      "cell_type": "code",
      "execution_count": null,
      "metadata": {
        "id": "1OjApQWddEeh",
        "outputId": "8a123f15-2ab6-4639-8d1d-0a409b0a4a7f"
      },
      "outputs": [
        {
          "data": {
            "text/plain": [
              "True"
            ]
          },
          "execution_count": 160,
          "metadata": {},
          "output_type": "execute_result"
        }
      ],
      "source": [
        "True or fake_variable"
      ]
    },
    {
      "cell_type": "code",
      "execution_count": null,
      "metadata": {
        "tags": [
          "raises-exception"
        ],
        "id": "P-J5nUAudEeh",
        "outputId": "fc18567e-d32a-46ae-9852-ac7fa6ed0902"
      },
      "outputs": [
        {
          "ename": "NameError",
          "evalue": "name 'fake_variable' is not defined",
          "output_type": "error",
          "traceback": [
            "\u001b[0;31m---------------------------------------------------------------------------\u001b[0m",
            "\u001b[0;31mNameError\u001b[0m                                 Traceback (most recent call last)",
            "\u001b[0;32m<ipython-input-161-a7196cc665d5>\u001b[0m in \u001b[0;36m<module>\u001b[0;34m\u001b[0m\n\u001b[0;32m----> 1\u001b[0;31m \u001b[0;32mTrue\u001b[0m \u001b[0;32mand\u001b[0m \u001b[0mfake_variable\u001b[0m\u001b[0;34m\u001b[0m\u001b[0;34m\u001b[0m\u001b[0m\n\u001b[0m",
            "\u001b[0;31mNameError\u001b[0m: name 'fake_variable' is not defined"
          ]
        }
      ],
      "source": [
        "True and fake_variable"
      ]
    },
    {
      "cell_type": "code",
      "execution_count": null,
      "metadata": {
        "id": "NtqLuxTudEei",
        "outputId": "c9f25528-4b28-4c0d-91ef-a9c51449523b"
      },
      "outputs": [
        {
          "data": {
            "text/plain": [
              "False"
            ]
          },
          "execution_count": 162,
          "metadata": {},
          "output_type": "execute_result"
        }
      ],
      "source": [
        "False and fake_variable"
      ]
    },
    {
      "cell_type": "markdown",
      "metadata": {
        "id": "NNkGo26BdEei"
      },
      "source": [
        "|Expression|Result|Detail|\n",
        "|---|---|---|\n",
        "|A or B|If A is `True` then A else B|B only executed if A is `False`|\n",
        "|A and B|If A is `False` then A else B|B only executed if A is `True`|"
      ]
    }
  ],
  "metadata": {
    "kernelspec": {
      "display_name": "Python 3 (ipykernel)",
      "language": "python",
      "name": "python3"
    },
    "language_info": {
      "codemirror_mode": {
        "name": "ipython",
        "version": 3
      },
      "file_extension": ".py",
      "mimetype": "text/x-python",
      "name": "python",
      "nbconvert_exporter": "python",
      "pygments_lexer": "ipython3",
      "version": "3.9.7"
    },
    "toc": {
      "base_numbering": 1,
      "nav_menu": {},
      "number_sections": false,
      "sideBar": true,
      "skip_h1_title": true,
      "title_cell": "Lecture Outline",
      "title_sidebar": "Contents",
      "toc_cell": true,
      "toc_position": {},
      "toc_section_display": true,
      "toc_window_display": true
    },
    "toc-autonumbering": false,
    "toc-showcode": false,
    "toc-showmarkdowntxt": false,
    "toc-showtags": false,
    "colab": {
      "provenance": []
    }
  },
  "nbformat": 4,
  "nbformat_minor": 0
}